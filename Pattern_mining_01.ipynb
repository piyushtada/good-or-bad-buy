{
 "cells": [
  {
   "cell_type": "markdown",
   "metadata": {},
   "source": [
    "# Importing libries that we will need "
   ]
  },
  {
   "cell_type": "code",
   "execution_count": 33,
   "metadata": {},
   "outputs": [],
   "source": [
    "%matplotlib inline\n",
    "import numpy as np\n",
    "import pandas as pd\n",
    "import scipy.stats as stats\n",
    "import matplotlib.pyplot as plt"
   ]
  },
  {
   "cell_type": "markdown",
   "metadata": {},
   "source": [
    "# List of columns that are not useful "
   ]
  },
  {
   "cell_type": "code",
   "execution_count": 98,
   "metadata": {},
   "outputs": [],
   "source": [
    "column_to_drop = [\"RefId\",\"PurchDate\",\"Auction\",\"VehYear\",\n",
    "                  \"Trim\",\"SubModel\",\"Color\",\"WheelType\",\n",
    "                  \"Nationality\",\"TopThreeAmericanName\",\n",
    "                  \"MMRAcquisitionAuctionCleanPrice\",\n",
    "                  \"MMRAcquisitionRetailAveragePrice\",\n",
    "                  \"MMRAcquisitonRetailCleanPrice\",\n",
    "                  \"MMRCurrentAuctionCleanPrice\",\"WheelTypeID\",\n",
    "                  \"MMRCurrentRetailAveragePrice\",\n",
    "                  \"MMRCurrentRetailCleanPrice\",\"PRIMEUNIT\",\n",
    "                  \"AUCGUART\",\"BYRNO\",\"VNST\",\"IsOnlineSale\",\"Model\",\n",
    "                 \"VNZIP1\",\"MMRCurrentAuctionAveragePrice\",\"Transmission\",\n",
    "                 \"VehBCost\",\"WarrantyCost\",\"VehicleAge\"]"
   ]
  },
  {
   "cell_type": "code",
   "execution_count": 99,
   "metadata": {},
   "outputs": [],
   "source": [
    "df = pd.read_csv(\"/Users/piyush2017/All Files/Python/Data_Mining_Project/Classification/training.csv\")"
   ]
  },
  {
   "cell_type": "code",
   "execution_count": 100,
   "metadata": {},
   "outputs": [
    {
     "name": "stdout",
     "output_type": "stream",
     "text": [
      "<class 'pandas.core.frame.DataFrame'>\n",
      "RangeIndex: 58386 entries, 0 to 58385\n",
      "Data columns (total 34 columns):\n",
      "RefId                                58386 non-null int64\n",
      "IsBadBuy                             58386 non-null int64\n",
      "PurchDate                            58386 non-null object\n",
      "Auction                              58386 non-null object\n",
      "VehYear                              58386 non-null int64\n",
      "VehicleAge                           58386 non-null int64\n",
      "Make                                 58386 non-null object\n",
      "Model                                58386 non-null object\n",
      "Trim                                 56475 non-null object\n",
      "SubModel                             58379 non-null object\n",
      "Color                                58379 non-null object\n",
      "Transmission                         58378 non-null object\n",
      "WheelTypeID                          55813 non-null float64\n",
      "WheelType                            55809 non-null object\n",
      "VehOdo                               58386 non-null int64\n",
      "Nationality                          58382 non-null object\n",
      "Size                                 58382 non-null object\n",
      "TopThreeAmericanName                 58382 non-null object\n",
      "MMRAcquisitionAuctionAveragePrice    58373 non-null float64\n",
      "MMRAcquisitionAuctionCleanPrice      58373 non-null float64\n",
      "MMRAcquisitionRetailAveragePrice     58373 non-null float64\n",
      "MMRAcquisitonRetailCleanPrice        58373 non-null float64\n",
      "MMRCurrentAuctionAveragePrice        58141 non-null float64\n",
      "MMRCurrentAuctionCleanPrice          58141 non-null float64\n",
      "MMRCurrentRetailAveragePrice         58141 non-null float64\n",
      "MMRCurrentRetailCleanPrice           58141 non-null float64\n",
      "PRIMEUNIT                            2683 non-null object\n",
      "AUCGUART                             2683 non-null object\n",
      "BYRNO                                58386 non-null int64\n",
      "VNZIP1                               58386 non-null int64\n",
      "VNST                                 58386 non-null object\n",
      "VehBCost                             58386 non-null float64\n",
      "IsOnlineSale                         58386 non-null int64\n",
      "WarrantyCost                         58386 non-null int64\n",
      "dtypes: float64(10), int64(9), object(15)\n",
      "memory usage: 15.1+ MB\n"
     ]
    }
   ],
   "source": [
    "df.info()"
   ]
  },
  {
   "cell_type": "code",
   "execution_count": 101,
   "metadata": {},
   "outputs": [],
   "source": [
    "new_df = df.drop(columns= column_to_drop)"
   ]
  },
  {
   "cell_type": "code",
   "execution_count": 102,
   "metadata": {},
   "outputs": [
    {
     "data": {
      "text/plain": [
       "IsBadBuy                              0\n",
       "Make                                  0\n",
       "VehOdo                                0\n",
       "Size                                  4\n",
       "MMRAcquisitionAuctionAveragePrice    13\n",
       "dtype: int64"
      ]
     },
     "execution_count": 102,
     "metadata": {},
     "output_type": "execute_result"
    }
   ],
   "source": [
    "new_df.isnull().sum()"
   ]
  },
  {
   "cell_type": "markdown",
   "metadata": {},
   "source": [
    "Here we can do the support on columns [Make,Transmission, Size,VehicleAge]\n",
    "\n",
    "support is the number of time "
   ]
  },
  {
   "cell_type": "code",
   "execution_count": 103,
   "metadata": {},
   "outputs": [],
   "source": [
    "final_df = new_df.dropna()"
   ]
  },
  {
   "cell_type": "code",
   "execution_count": 104,
   "metadata": {},
   "outputs": [
    {
     "data": {
      "text/html": [
       "<div>\n",
       "<style scoped>\n",
       "    .dataframe tbody tr th:only-of-type {\n",
       "        vertical-align: middle;\n",
       "    }\n",
       "\n",
       "    .dataframe tbody tr th {\n",
       "        vertical-align: top;\n",
       "    }\n",
       "\n",
       "    .dataframe thead th {\n",
       "        text-align: right;\n",
       "    }\n",
       "</style>\n",
       "<table border=\"1\" class=\"dataframe\">\n",
       "  <thead>\n",
       "    <tr style=\"text-align: right;\">\n",
       "      <th></th>\n",
       "      <th>IsBadBuy</th>\n",
       "      <th>Make</th>\n",
       "      <th>VehOdo</th>\n",
       "      <th>Size</th>\n",
       "      <th>MMRAcquisitionAuctionAveragePrice</th>\n",
       "    </tr>\n",
       "  </thead>\n",
       "  <tbody>\n",
       "    <tr>\n",
       "      <td>0</td>\n",
       "      <td>1</td>\n",
       "      <td>KIA</td>\n",
       "      <td>61184</td>\n",
       "      <td>MEDIUM</td>\n",
       "      <td>6796.0</td>\n",
       "    </tr>\n",
       "    <tr>\n",
       "      <td>1</td>\n",
       "      <td>0</td>\n",
       "      <td>DODGE</td>\n",
       "      <td>92383</td>\n",
       "      <td>MEDIUM</td>\n",
       "      <td>5480.0</td>\n",
       "    </tr>\n",
       "    <tr>\n",
       "      <td>2</td>\n",
       "      <td>0</td>\n",
       "      <td>DODGE</td>\n",
       "      <td>45965</td>\n",
       "      <td>MEDIUM</td>\n",
       "      <td>8067.0</td>\n",
       "    </tr>\n",
       "    <tr>\n",
       "      <td>3</td>\n",
       "      <td>0</td>\n",
       "      <td>FORD</td>\n",
       "      <td>80169</td>\n",
       "      <td>VAN</td>\n",
       "      <td>4817.0</td>\n",
       "    </tr>\n",
       "    <tr>\n",
       "      <td>4</td>\n",
       "      <td>0</td>\n",
       "      <td>CHRYSLER</td>\n",
       "      <td>77372</td>\n",
       "      <td>VAN</td>\n",
       "      <td>5430.0</td>\n",
       "    </tr>\n",
       "  </tbody>\n",
       "</table>\n",
       "</div>"
      ],
      "text/plain": [
       "   IsBadBuy      Make  VehOdo    Size  MMRAcquisitionAuctionAveragePrice\n",
       "0         1       KIA   61184  MEDIUM                             6796.0\n",
       "1         0     DODGE   92383  MEDIUM                             5480.0\n",
       "2         0     DODGE   45965  MEDIUM                             8067.0\n",
       "3         0      FORD   80169     VAN                             4817.0\n",
       "4         0  CHRYSLER   77372     VAN                             5430.0"
      ]
     },
     "execution_count": 104,
     "metadata": {},
     "output_type": "execute_result"
    }
   ],
   "source": [
    "new_df.head()"
   ]
  },
  {
   "cell_type": "code",
   "execution_count": 105,
   "metadata": {},
   "outputs": [
    {
     "data": {
      "text/plain": [
       "(58386, 5)"
      ]
     },
     "execution_count": 105,
     "metadata": {},
     "output_type": "execute_result"
    }
   ],
   "source": [
    "new_df.shape"
   ]
  },
  {
   "cell_type": "code",
   "execution_count": 106,
   "metadata": {},
   "outputs": [],
   "source": [
    "df = new_df.copy()"
   ]
  },
  {
   "cell_type": "code",
   "execution_count": 109,
   "metadata": {},
   "outputs": [],
   "source": [
    "df['MMRAcquisitionAuctionAveragePriceBin'] = pd.cut(df['MMRAcquisitionAuctionAveragePrice'], 10, right=False)\n",
    "df['VehOdoBin'] = pd.cut(df['VehOdo'], 10, right=False)"
   ]
  },
  {
   "cell_type": "code",
   "execution_count": 108,
   "metadata": {},
   "outputs": [
    {
     "data": {
      "text/plain": [
       "0     [3572.2, 7144.4)\n",
       "1     [3572.2, 7144.4)\n",
       "2    [7144.4, 10716.6)\n",
       "3     [3572.2, 7144.4)\n",
       "4     [3572.2, 7144.4)\n",
       "Name: MMRAcquisitionAuctionAveragePriceBin, dtype: category\n",
       "Categories (10, interval[float64]): [[0.0, 3572.2) < [3572.2, 7144.4) < [7144.4, 10716.6) < [10716.6, 14288.8) ... [21433.2, 25005.4) < [25005.4, 28577.6) < [28577.6, 32149.8) < [32149.8, 35757.722)]"
      ]
     },
     "execution_count": 108,
     "metadata": {},
     "output_type": "execute_result"
    }
   ],
   "source": [
    "df.MMRAcquisitionAuctionAveragePriceBin.head()"
   ]
  },
  {
   "cell_type": "code",
   "execution_count": 110,
   "metadata": {},
   "outputs": [
    {
     "data": {
      "text/plain": [
       "0    [60271.0, 71360.2)\n",
       "1    [82449.4, 93538.6)\n",
       "2    [38092.6, 49181.8)\n",
       "3    [71360.2, 82449.4)\n",
       "4    [71360.2, 82449.4)\n",
       "Name: VehOdoBin, dtype: category\n",
       "Categories (10, interval[float64]): [[4825.0, 15914.2) < [15914.2, 27003.4) < [27003.4, 38092.6) < [38092.6, 49181.8) ... [71360.2, 82449.4) < [82449.4, 93538.6) < [93538.6, 104627.8) < [104627.8, 115827.892)]"
      ]
     },
     "execution_count": 110,
     "metadata": {},
     "output_type": "execute_result"
    }
   ],
   "source": [
    "df.VehOdoBin.head()"
   ]
  },
  {
   "cell_type": "code",
   "execution_count": 111,
   "metadata": {},
   "outputs": [
    {
     "data": {
      "text/html": [
       "<div>\n",
       "<style scoped>\n",
       "    .dataframe tbody tr th:only-of-type {\n",
       "        vertical-align: middle;\n",
       "    }\n",
       "\n",
       "    .dataframe tbody tr th {\n",
       "        vertical-align: top;\n",
       "    }\n",
       "\n",
       "    .dataframe thead th {\n",
       "        text-align: right;\n",
       "    }\n",
       "</style>\n",
       "<table border=\"1\" class=\"dataframe\">\n",
       "  <thead>\n",
       "    <tr style=\"text-align: right;\">\n",
       "      <th></th>\n",
       "      <th>IsBadBuy</th>\n",
       "      <th>Make</th>\n",
       "      <th>Size</th>\n",
       "      <th>MMRAcquisitionAuctionAveragePriceBin</th>\n",
       "      <th>VehOdoBin</th>\n",
       "    </tr>\n",
       "  </thead>\n",
       "  <tbody>\n",
       "    <tr>\n",
       "      <td>0</td>\n",
       "      <td>1</td>\n",
       "      <td>KIA</td>\n",
       "      <td>MEDIUM</td>\n",
       "      <td>[3572.2, 7144.4)</td>\n",
       "      <td>[60271.0, 71360.2)</td>\n",
       "    </tr>\n",
       "    <tr>\n",
       "      <td>1</td>\n",
       "      <td>0</td>\n",
       "      <td>DODGE</td>\n",
       "      <td>MEDIUM</td>\n",
       "      <td>[3572.2, 7144.4)</td>\n",
       "      <td>[82449.4, 93538.6)</td>\n",
       "    </tr>\n",
       "    <tr>\n",
       "      <td>2</td>\n",
       "      <td>0</td>\n",
       "      <td>DODGE</td>\n",
       "      <td>MEDIUM</td>\n",
       "      <td>[7144.4, 10716.6)</td>\n",
       "      <td>[38092.6, 49181.8)</td>\n",
       "    </tr>\n",
       "    <tr>\n",
       "      <td>3</td>\n",
       "      <td>0</td>\n",
       "      <td>FORD</td>\n",
       "      <td>VAN</td>\n",
       "      <td>[3572.2, 7144.4)</td>\n",
       "      <td>[71360.2, 82449.4)</td>\n",
       "    </tr>\n",
       "    <tr>\n",
       "      <td>4</td>\n",
       "      <td>0</td>\n",
       "      <td>CHRYSLER</td>\n",
       "      <td>VAN</td>\n",
       "      <td>[3572.2, 7144.4)</td>\n",
       "      <td>[71360.2, 82449.4)</td>\n",
       "    </tr>\n",
       "  </tbody>\n",
       "</table>\n",
       "</div>"
      ],
      "text/plain": [
       "   IsBadBuy      Make    Size MMRAcquisitionAuctionAveragePriceBin  \\\n",
       "0         1       KIA  MEDIUM                     [3572.2, 7144.4)   \n",
       "1         0     DODGE  MEDIUM                     [3572.2, 7144.4)   \n",
       "2         0     DODGE  MEDIUM                    [7144.4, 10716.6)   \n",
       "3         0      FORD     VAN                     [3572.2, 7144.4)   \n",
       "4         0  CHRYSLER     VAN                     [3572.2, 7144.4)   \n",
       "\n",
       "            VehOdoBin  \n",
       "0  [60271.0, 71360.2)  \n",
       "1  [82449.4, 93538.6)  \n",
       "2  [38092.6, 49181.8)  \n",
       "3  [71360.2, 82449.4)  \n",
       "4  [71360.2, 82449.4)  "
      ]
     },
     "execution_count": 111,
     "metadata": {},
     "output_type": "execute_result"
    }
   ],
   "source": [
    "df.drop(['MMRAcquisitionAuctionAveragePrice', 'VehOdo'], axis=1, inplace=True)\n",
    "\n",
    "df.head()"
   ]
  },
  {
   "cell_type": "code",
   "execution_count": 112,
   "metadata": {},
   "outputs": [],
   "source": [
    "df['IsBadBuy'] = df['IsBadBuy'].map(\n",
    "    {0: 'Not Good', 1: 'Good'}).astype(str)"
   ]
  },
  {
   "cell_type": "code",
   "execution_count": 113,
   "metadata": {},
   "outputs": [
    {
     "data": {
      "text/html": [
       "<div>\n",
       "<style scoped>\n",
       "    .dataframe tbody tr th:only-of-type {\n",
       "        vertical-align: middle;\n",
       "    }\n",
       "\n",
       "    .dataframe tbody tr th {\n",
       "        vertical-align: top;\n",
       "    }\n",
       "\n",
       "    .dataframe thead th {\n",
       "        text-align: right;\n",
       "    }\n",
       "</style>\n",
       "<table border=\"1\" class=\"dataframe\">\n",
       "  <thead>\n",
       "    <tr style=\"text-align: right;\">\n",
       "      <th></th>\n",
       "      <th>IsBadBuy</th>\n",
       "      <th>Make</th>\n",
       "      <th>Size</th>\n",
       "      <th>MMRAcquisitionAuctionAveragePriceBin</th>\n",
       "      <th>VehOdoBin</th>\n",
       "    </tr>\n",
       "  </thead>\n",
       "  <tbody>\n",
       "    <tr>\n",
       "      <td>0</td>\n",
       "      <td>Good</td>\n",
       "      <td>KIA</td>\n",
       "      <td>MEDIUM</td>\n",
       "      <td>[3572.2, 7144.4)_MMR</td>\n",
       "      <td>[60271.0, 71360.2)_Veh</td>\n",
       "    </tr>\n",
       "    <tr>\n",
       "      <td>1</td>\n",
       "      <td>Not Good</td>\n",
       "      <td>DODGE</td>\n",
       "      <td>MEDIUM</td>\n",
       "      <td>[3572.2, 7144.4)_MMR</td>\n",
       "      <td>[82449.4, 93538.6)_Veh</td>\n",
       "    </tr>\n",
       "    <tr>\n",
       "      <td>2</td>\n",
       "      <td>Not Good</td>\n",
       "      <td>DODGE</td>\n",
       "      <td>MEDIUM</td>\n",
       "      <td>[7144.4, 10716.6)_MMR</td>\n",
       "      <td>[38092.6, 49181.8)_Veh</td>\n",
       "    </tr>\n",
       "    <tr>\n",
       "      <td>3</td>\n",
       "      <td>Not Good</td>\n",
       "      <td>FORD</td>\n",
       "      <td>VAN</td>\n",
       "      <td>[3572.2, 7144.4)_MMR</td>\n",
       "      <td>[71360.2, 82449.4)_Veh</td>\n",
       "    </tr>\n",
       "    <tr>\n",
       "      <td>4</td>\n",
       "      <td>Not Good</td>\n",
       "      <td>CHRYSLER</td>\n",
       "      <td>VAN</td>\n",
       "      <td>[3572.2, 7144.4)_MMR</td>\n",
       "      <td>[71360.2, 82449.4)_Veh</td>\n",
       "    </tr>\n",
       "  </tbody>\n",
       "</table>\n",
       "</div>"
      ],
      "text/plain": [
       "   IsBadBuy      Make    Size MMRAcquisitionAuctionAveragePriceBin  \\\n",
       "0      Good       KIA  MEDIUM                 [3572.2, 7144.4)_MMR   \n",
       "1  Not Good     DODGE  MEDIUM                 [3572.2, 7144.4)_MMR   \n",
       "2  Not Good     DODGE  MEDIUM                [7144.4, 10716.6)_MMR   \n",
       "3  Not Good      FORD     VAN                 [3572.2, 7144.4)_MMR   \n",
       "4  Not Good  CHRYSLER     VAN                 [3572.2, 7144.4)_MMR   \n",
       "\n",
       "                VehOdoBin  \n",
       "0  [60271.0, 71360.2)_Veh  \n",
       "1  [82449.4, 93538.6)_Veh  \n",
       "2  [38092.6, 49181.8)_Veh  \n",
       "3  [71360.2, 82449.4)_Veh  \n",
       "4  [71360.2, 82449.4)_Veh  "
      ]
     },
     "execution_count": 113,
     "metadata": {},
     "output_type": "execute_result"
    }
   ],
   "source": [
    "df['MMRAcquisitionAuctionAveragePriceBin'] = df['MMRAcquisitionAuctionAveragePriceBin'].astype(str) + '_MMR'\n",
    "df['VehOdoBin'] = df['VehOdoBin'].astype(str) + '_Veh'\n",
    "\n",
    "\n",
    "df.head()"
   ]
  },
  {
   "cell_type": "code",
   "execution_count": 114,
   "metadata": {},
   "outputs": [],
   "source": [
    "baskets = df.values.tolist()"
   ]
  },
  {
   "cell_type": "code",
   "execution_count": 115,
   "metadata": {},
   "outputs": [
    {
     "data": {
      "text/plain": [
       "['Good', 'KIA', 'MEDIUM', '[3572.2, 7144.4)_MMR', '[60271.0, 71360.2)_Veh']"
      ]
     },
     "execution_count": 115,
     "metadata": {},
     "output_type": "execute_result"
    }
   ],
   "source": [
    "baskets[0]"
   ]
  },
  {
   "cell_type": "code",
   "execution_count": 117,
   "metadata": {},
   "outputs": [],
   "source": [
    "from fim import apriori"
   ]
  },
  {
   "cell_type": "markdown",
   "metadata": {},
   "source": [
    "Extract frequent patterns"
   ]
  },
  {
   "cell_type": "code",
   "execution_count": 118,
   "metadata": {},
   "outputs": [],
   "source": [
    "itemsets = apriori(baskets, supp=1, zmin=2, target='a') "
   ]
  },
  {
   "cell_type": "code",
   "execution_count": 120,
   "metadata": {},
   "outputs": [
    {
     "name": "stdout",
     "output_type": "stream",
     "text": [
      "Number of itemsets: 523\n"
     ]
    }
   ],
   "source": [
    "print('Number of itemsets:', len(itemsets))"
   ]
  },
  {
   "cell_type": "code",
   "execution_count": 121,
   "metadata": {},
   "outputs": [
    {
     "data": {
      "text/plain": [
       "[(('SMALL TRUCK', 'Not Good'), 593),\n",
       " (('MERCURY', 'Not Good'), 612),\n",
       " (('[27003.4, 38092.6)_Veh', 'Not Good'), 694),\n",
       " (('MAZDA', 'Not Good'), 653),\n",
       " (('MITSUBISHI', 'Not Good'), 721),\n",
       " (('TOYOTA', 'MEDIUM'), 585),\n",
       " (('TOYOTA', 'Not Good'), 809),\n",
       " (('SUZUKI', 'MEDIUM'), 807),\n",
       " (('SUZUKI', 'MEDIUM', '[3572.2, 7144.4)_MMR'), 674),\n",
       " (('SUZUKI', 'MEDIUM', '[3572.2, 7144.4)_MMR', 'Not Good'), 586)]"
      ]
     },
     "execution_count": 121,
     "metadata": {},
     "output_type": "execute_result"
    }
   ],
   "source": [
    "itemsets[:10]"
   ]
  },
  {
   "cell_type": "code",
   "execution_count": 122,
   "metadata": {},
   "outputs": [],
   "source": [
    "rules = apriori(baskets, supp=10, zmin=2, target='r', conf=60, \n",
    "                report='ascl') "
   ]
  },
  {
   "cell_type": "code",
   "execution_count": 123,
   "metadata": {},
   "outputs": [
    {
     "name": "stdout",
     "output_type": "stream",
     "text": [
      "Number of rule: 22\n"
     ]
    }
   ],
   "source": [
    "print('Number of rule:', len(rules))"
   ]
  },
  {
   "cell_type": "code",
   "execution_count": 124,
   "metadata": {},
   "outputs": [],
   "source": [
    "for r in rules:\n",
    "    if r[0] == 'Good':\n",
    "        print(r)"
   ]
  },
  {
   "cell_type": "code",
   "execution_count": 125,
   "metadata": {},
   "outputs": [
    {
     "data": {
      "text/plain": [
       "{'MEDIUM SUV'}"
      ]
     },
     "execution_count": 125,
     "metadata": {},
     "output_type": "execute_result"
    }
   ],
   "source": [
    "set(rules[0][1])"
   ]
  },
  {
   "cell_type": "code",
   "execution_count": 135,
   "metadata": {},
   "outputs": [
    {
     "data": {
      "text/plain": [
       "58386"
      ]
     },
     "execution_count": 135,
     "metadata": {},
     "output_type": "execute_result"
    }
   ],
   "source": [
    "len(baskets)"
   ]
  },
  {
   "cell_type": "markdown",
   "metadata": {},
   "source": [
    "# Patterns"
   ]
  },
  {
   "cell_type": "code",
   "execution_count": 139,
   "metadata": {},
   "outputs": [],
   "source": [
    "hr_baskets_list = baskets.copy()"
   ]
  },
  {
   "cell_type": "code",
   "execution_count": 142,
   "metadata": {},
   "outputs": [
    {
     "data": {
      "text/plain": [
       "58386"
      ]
     },
     "execution_count": 142,
     "metadata": {},
     "output_type": "execute_result"
    }
   ],
   "source": [
    "len(hr_baskets_list)"
   ]
  },
  {
   "cell_type": "code",
   "execution_count": 150,
   "metadata": {},
   "outputs": [],
   "source": [
    "frequent_patterns = apriori(hr_baskets_list, supp=5, zmin=3, target = 's')"
   ]
  },
  {
   "cell_type": "markdown",
   "metadata": {},
   "source": [
    "supp means support threshold\n",
    "so it means number of time the pattern occurs in the data set\n",
    "so it is a percentage in our case its 5%"
   ]
  },
  {
   "cell_type": "code",
   "execution_count": 151,
   "metadata": {},
   "outputs": [
    {
     "data": {
      "text/plain": [
       "31"
      ]
     },
     "execution_count": 151,
     "metadata": {},
     "output_type": "execute_result"
    }
   ],
   "source": [
    "len(frequent_patterns)"
   ]
  },
  {
   "cell_type": "code",
   "execution_count": 152,
   "metadata": {},
   "outputs": [
    {
     "data": {
      "text/plain": [
       "[(('MEDIUM', '[3572.2, 7144.4)_MMR', 'Not Good'), 11934),\n",
       " (('[71360.2, 82449.4)_Veh', '[3572.2, 7144.4)_MMR', 'Not Good'), 7470),\n",
       " (('CHEVROLET', '[3572.2, 7144.4)_MMR', 'Not Good'), 6601),\n",
       " (('[60271.0, 71360.2)_Veh', '[3572.2, 7144.4)_MMR', 'Not Good'), 6135),\n",
       " (('[7144.4, 10716.6)_MMR', 'MEDIUM', 'Not Good'), 5781),\n",
       " (('[71360.2, 82449.4)_Veh', 'MEDIUM', 'Not Good'), 5390),\n",
       " (('[71360.2, 82449.4)_Veh', '[7144.4, 10716.6)_MMR', 'Not Good'), 5184),\n",
       " (('[60271.0, 71360.2)_Veh', 'MEDIUM', 'Not Good'), 4834),\n",
       " (('[82449.4, 93538.6)_Veh', '[3572.2, 7144.4)_MMR', 'Not Good'), 4754),\n",
       " (('CHEVROLET', '[7144.4, 10716.6)_MMR', 'Not Good'), 4464),\n",
       " (('[49181.8, 60271.0)_Veh', 'MEDIUM', 'Not Good'), 4426),\n",
       " (('CHRYSLER', 'MEDIUM', 'Not Good'), 4336),\n",
       " (('CHEVROLET', '[71360.2, 82449.4)_Veh', 'Not Good'), 4248),\n",
       " (('DODGE', 'MEDIUM', 'Not Good'), 4089),\n",
       " (('DODGE', '[7144.4, 10716.6)_MMR', 'Not Good'), 4003),\n",
       " (('[49181.8, 60271.0)_Veh', '[3572.2, 7144.4)_MMR', 'Not Good'), 3980),\n",
       " (('LARGE', 'CHEVROLET', 'Not Good'), 3826),\n",
       " (('[0.0, 3572.2)_MMR', 'MEDIUM', 'Not Good'), 3710),\n",
       " (('DODGE', '[3572.2, 7144.4)_MMR', 'Not Good'), 3691),\n",
       " (('FORD', '[3572.2, 7144.4)_MMR', 'Not Good'), 3582),\n",
       " (('[60271.0, 71360.2)_Veh', '[7144.4, 10716.6)_MMR', 'Not Good'), 3558),\n",
       " (('CHRYSLER', '[3572.2, 7144.4)_MMR', 'Not Good'), 3430),\n",
       " (('[71360.2, 82449.4)_Veh', 'MEDIUM', '[3572.2, 7144.4)_MMR'), 3398),\n",
       " (('[82449.4, 93538.6)_Veh', '[7144.4, 10716.6)_MMR', 'Not Good'), 3336),\n",
       " (('[60271.0, 71360.2)_Veh', 'MEDIUM', '[3572.2, 7144.4)_MMR'), 3267),\n",
       " (('[82449.4, 93538.6)_Veh', 'MEDIUM', 'Not Good'), 3203),\n",
       " (('LARGE', '[7144.4, 10716.6)_MMR', 'Not Good'), 3148),\n",
       " (('CHEVROLET', 'MEDIUM', 'Not Good'), 3052),\n",
       " (('CHRYSLER', 'MEDIUM', '[3572.2, 7144.4)_MMR'), 3040),\n",
       " (('[60271.0, 71360.2)_Veh', 'CHEVROLET', 'Not Good'), 2979),\n",
       " (('[71360.2, 82449.4)_Veh', 'MEDIUM', '[3572.2, 7144.4)_MMR', 'Not Good'),\n",
       "  2956)]"
      ]
     },
     "execution_count": 152,
     "metadata": {},
     "output_type": "execute_result"
    }
   ],
   "source": [
    "frequent_patterns.sort(key=lambda pattern: pattern[1], reverse=True)\n",
    "frequent_patterns\n"
   ]
  },
  {
   "cell_type": "code",
   "execution_count": 153,
   "metadata": {},
   "outputs": [],
   "source": [
    "closed_patterns = apriori(hr_baskets_list, supp=5, zmin=3, target = 'c')"
   ]
  },
  {
   "cell_type": "code",
   "execution_count": 154,
   "metadata": {},
   "outputs": [
    {
     "data": {
      "text/plain": [
       "31"
      ]
     },
     "execution_count": 154,
     "metadata": {},
     "output_type": "execute_result"
    }
   ],
   "source": [
    "len(closed_patterns)"
   ]
  },
  {
   "cell_type": "code",
   "execution_count": 155,
   "metadata": {},
   "outputs": [
    {
     "data": {
      "text/plain": [
       "[(('MEDIUM', '[3572.2, 7144.4)_MMR', 'Not Good'), 11934),\n",
       " (('[71360.2, 82449.4)_Veh', '[3572.2, 7144.4)_MMR', 'Not Good'), 7470),\n",
       " (('CHEVROLET', '[3572.2, 7144.4)_MMR', 'Not Good'), 6601),\n",
       " (('[60271.0, 71360.2)_Veh', '[3572.2, 7144.4)_MMR', 'Not Good'), 6135),\n",
       " (('[7144.4, 10716.6)_MMR', 'MEDIUM', 'Not Good'), 5781),\n",
       " (('[71360.2, 82449.4)_Veh', 'MEDIUM', 'Not Good'), 5390),\n",
       " (('[71360.2, 82449.4)_Veh', '[7144.4, 10716.6)_MMR', 'Not Good'), 5184),\n",
       " (('[60271.0, 71360.2)_Veh', 'MEDIUM', 'Not Good'), 4834),\n",
       " (('[82449.4, 93538.6)_Veh', '[3572.2, 7144.4)_MMR', 'Not Good'), 4754),\n",
       " (('CHEVROLET', '[7144.4, 10716.6)_MMR', 'Not Good'), 4464),\n",
       " (('[49181.8, 60271.0)_Veh', 'MEDIUM', 'Not Good'), 4426),\n",
       " (('CHRYSLER', 'MEDIUM', 'Not Good'), 4336),\n",
       " (('CHEVROLET', '[71360.2, 82449.4)_Veh', 'Not Good'), 4248),\n",
       " (('DODGE', 'MEDIUM', 'Not Good'), 4089),\n",
       " (('DODGE', '[7144.4, 10716.6)_MMR', 'Not Good'), 4003),\n",
       " (('[49181.8, 60271.0)_Veh', '[3572.2, 7144.4)_MMR', 'Not Good'), 3980),\n",
       " (('LARGE', 'CHEVROLET', 'Not Good'), 3826),\n",
       " (('[0.0, 3572.2)_MMR', 'MEDIUM', 'Not Good'), 3710),\n",
       " (('DODGE', '[3572.2, 7144.4)_MMR', 'Not Good'), 3691),\n",
       " (('FORD', '[3572.2, 7144.4)_MMR', 'Not Good'), 3582),\n",
       " (('[60271.0, 71360.2)_Veh', '[7144.4, 10716.6)_MMR', 'Not Good'), 3558),\n",
       " (('CHRYSLER', '[3572.2, 7144.4)_MMR', 'Not Good'), 3430),\n",
       " (('[71360.2, 82449.4)_Veh', 'MEDIUM', '[3572.2, 7144.4)_MMR'), 3398),\n",
       " (('[82449.4, 93538.6)_Veh', '[7144.4, 10716.6)_MMR', 'Not Good'), 3336),\n",
       " (('[60271.0, 71360.2)_Veh', 'MEDIUM', '[3572.2, 7144.4)_MMR'), 3267),\n",
       " (('[82449.4, 93538.6)_Veh', 'MEDIUM', 'Not Good'), 3203),\n",
       " (('LARGE', '[7144.4, 10716.6)_MMR', 'Not Good'), 3148),\n",
       " (('CHEVROLET', 'MEDIUM', 'Not Good'), 3052),\n",
       " (('CHRYSLER', 'MEDIUM', '[3572.2, 7144.4)_MMR'), 3040),\n",
       " (('[60271.0, 71360.2)_Veh', 'CHEVROLET', 'Not Good'), 2979),\n",
       " (('[71360.2, 82449.4)_Veh', 'MEDIUM', '[3572.2, 7144.4)_MMR', 'Not Good'),\n",
       "  2956)]"
      ]
     },
     "execution_count": 155,
     "metadata": {},
     "output_type": "execute_result"
    }
   ],
   "source": [
    "closed_patterns.sort(key=lambda pattern: pattern[1], reverse=True)\n",
    "closed_patterns"
   ]
  },
  {
   "cell_type": "code",
   "execution_count": 157,
   "metadata": {},
   "outputs": [],
   "source": [
    "maximal_patterns = apriori(hr_baskets_list, supp=5, zmin=3, target = 'm')"
   ]
  },
  {
   "cell_type": "code",
   "execution_count": 158,
   "metadata": {},
   "outputs": [
    {
     "data": {
      "text/plain": [
       "27"
      ]
     },
     "execution_count": 158,
     "metadata": {},
     "output_type": "execute_result"
    }
   ],
   "source": [
    "len(maximal_patterns)"
   ]
  },
  {
   "cell_type": "code",
   "execution_count": 159,
   "metadata": {},
   "outputs": [
    {
     "data": {
      "text/plain": [
       "(('CHRYSLER', 'MEDIUM', '[3572.2, 7144.4)_MMR'), 3040)"
      ]
     },
     "execution_count": 159,
     "metadata": {},
     "output_type": "execute_result"
    }
   ],
   "source": [
    "max_pat = maximal_patterns[0]\n",
    "max_pat"
   ]
  },
  {
   "cell_type": "code",
   "execution_count": 161,
   "metadata": {},
   "outputs": [
    {
     "data": {
      "text/plain": [
       "3040"
      ]
     },
     "execution_count": 161,
     "metadata": {},
     "output_type": "execute_result"
    }
   ],
   "source": [
    "max_pat[1]"
   ]
  },
  {
   "cell_type": "code",
   "execution_count": 162,
   "metadata": {},
   "outputs": [
    {
     "data": {
      "text/plain": [
       "[(('CHRYSLER', 'MEDIUM', '[3572.2, 7144.4)_MMR'), 3040),\n",
       " (('CHRYSLER', 'MEDIUM', 'Not Good'), 4336),\n",
       " (('CHRYSLER', '[3572.2, 7144.4)_MMR', 'Not Good'), 3430),\n",
       " (('LARGE', 'CHEVROLET', 'Not Good'), 3826),\n",
       " (('LARGE', '[7144.4, 10716.6)_MMR', 'Not Good'), 3148),\n",
       " (('[49181.8, 60271.0)_Veh', 'MEDIUM', 'Not Good'), 4426),\n",
       " (('[49181.8, 60271.0)_Veh', '[3572.2, 7144.4)_MMR', 'Not Good'), 3980),\n",
       " (('FORD', '[3572.2, 7144.4)_MMR', 'Not Good'), 3582),\n",
       " (('[0.0, 3572.2)_MMR', 'MEDIUM', 'Not Good'), 3710),\n",
       " (('DODGE', '[7144.4, 10716.6)_MMR', 'Not Good'), 4003),\n",
       " (('DODGE', 'MEDIUM', 'Not Good'), 4089),\n",
       " (('DODGE', '[3572.2, 7144.4)_MMR', 'Not Good'), 3691),\n",
       " (('[82449.4, 93538.6)_Veh', '[7144.4, 10716.6)_MMR', 'Not Good'), 3336),\n",
       " (('[82449.4, 93538.6)_Veh', 'MEDIUM', 'Not Good'), 3203),\n",
       " (('[82449.4, 93538.6)_Veh', '[3572.2, 7144.4)_MMR', 'Not Good'), 4754),\n",
       " (('[60271.0, 71360.2)_Veh', 'CHEVROLET', 'Not Good'), 2979),\n",
       " (('[60271.0, 71360.2)_Veh', '[7144.4, 10716.6)_MMR', 'Not Good'), 3558),\n",
       " (('[60271.0, 71360.2)_Veh', 'MEDIUM', '[3572.2, 7144.4)_MMR'), 3267),\n",
       " (('[60271.0, 71360.2)_Veh', 'MEDIUM', 'Not Good'), 4834),\n",
       " (('[60271.0, 71360.2)_Veh', '[3572.2, 7144.4)_MMR', 'Not Good'), 6135),\n",
       " (('CHEVROLET', '[71360.2, 82449.4)_Veh', 'Not Good'), 4248),\n",
       " (('CHEVROLET', '[7144.4, 10716.6)_MMR', 'Not Good'), 4464),\n",
       " (('CHEVROLET', 'MEDIUM', 'Not Good'), 3052),\n",
       " (('CHEVROLET', '[3572.2, 7144.4)_MMR', 'Not Good'), 6601),\n",
       " (('[71360.2, 82449.4)_Veh', '[7144.4, 10716.6)_MMR', 'Not Good'), 5184),\n",
       " (('[71360.2, 82449.4)_Veh', 'MEDIUM', '[3572.2, 7144.4)_MMR', 'Not Good'),\n",
       "  2956),\n",
       " (('[7144.4, 10716.6)_MMR', 'MEDIUM', 'Not Good'), 5781)]"
      ]
     },
     "execution_count": 162,
     "metadata": {},
     "output_type": "execute_result"
    }
   ],
   "source": [
    "maximal_patterns"
   ]
  },
  {
   "cell_type": "code",
   "execution_count": 163,
   "metadata": {},
   "outputs": [
    {
     "data": {
      "text/plain": [
       "[(('CHEVROLET', '[3572.2, 7144.4)_MMR', 'Not Good'), 6601),\n",
       " (('[60271.0, 71360.2)_Veh', '[3572.2, 7144.4)_MMR', 'Not Good'), 6135),\n",
       " (('[7144.4, 10716.6)_MMR', 'MEDIUM', 'Not Good'), 5781),\n",
       " (('[71360.2, 82449.4)_Veh', '[7144.4, 10716.6)_MMR', 'Not Good'), 5184),\n",
       " (('[60271.0, 71360.2)_Veh', 'MEDIUM', 'Not Good'), 4834),\n",
       " (('[82449.4, 93538.6)_Veh', '[3572.2, 7144.4)_MMR', 'Not Good'), 4754),\n",
       " (('CHEVROLET', '[7144.4, 10716.6)_MMR', 'Not Good'), 4464),\n",
       " (('[49181.8, 60271.0)_Veh', 'MEDIUM', 'Not Good'), 4426),\n",
       " (('CHRYSLER', 'MEDIUM', 'Not Good'), 4336),\n",
       " (('CHEVROLET', '[71360.2, 82449.4)_Veh', 'Not Good'), 4248),\n",
       " (('DODGE', 'MEDIUM', 'Not Good'), 4089),\n",
       " (('DODGE', '[7144.4, 10716.6)_MMR', 'Not Good'), 4003),\n",
       " (('[49181.8, 60271.0)_Veh', '[3572.2, 7144.4)_MMR', 'Not Good'), 3980),\n",
       " (('LARGE', 'CHEVROLET', 'Not Good'), 3826),\n",
       " (('[0.0, 3572.2)_MMR', 'MEDIUM', 'Not Good'), 3710),\n",
       " (('DODGE', '[3572.2, 7144.4)_MMR', 'Not Good'), 3691),\n",
       " (('FORD', '[3572.2, 7144.4)_MMR', 'Not Good'), 3582),\n",
       " (('[60271.0, 71360.2)_Veh', '[7144.4, 10716.6)_MMR', 'Not Good'), 3558),\n",
       " (('CHRYSLER', '[3572.2, 7144.4)_MMR', 'Not Good'), 3430),\n",
       " (('[82449.4, 93538.6)_Veh', '[7144.4, 10716.6)_MMR', 'Not Good'), 3336),\n",
       " (('[60271.0, 71360.2)_Veh', 'MEDIUM', '[3572.2, 7144.4)_MMR'), 3267),\n",
       " (('[82449.4, 93538.6)_Veh', 'MEDIUM', 'Not Good'), 3203),\n",
       " (('LARGE', '[7144.4, 10716.6)_MMR', 'Not Good'), 3148),\n",
       " (('CHEVROLET', 'MEDIUM', 'Not Good'), 3052),\n",
       " (('CHRYSLER', 'MEDIUM', '[3572.2, 7144.4)_MMR'), 3040),\n",
       " (('[60271.0, 71360.2)_Veh', 'CHEVROLET', 'Not Good'), 2979),\n",
       " (('[71360.2, 82449.4)_Veh', 'MEDIUM', '[3572.2, 7144.4)_MMR', 'Not Good'),\n",
       "  2956)]"
      ]
     },
     "execution_count": 163,
     "metadata": {},
     "output_type": "execute_result"
    }
   ],
   "source": [
    "maximal_patterns.sort(key=lambda pattern: pattern[1], reverse=True)\n",
    "maximal_patterns"
   ]
  },
  {
   "cell_type": "markdown",
   "metadata": {},
   "source": [
    "# Rules"
   ]
  },
  {
   "cell_type": "code",
   "execution_count": 164,
   "metadata": {},
   "outputs": [],
   "source": [
    "rules = apriori(hr_baskets_list, supp=10, zmin=2, target='r', conf=80, report='ascl')"
   ]
  },
  {
   "cell_type": "code",
   "execution_count": 165,
   "metadata": {},
   "outputs": [
    {
     "data": {
      "text/plain": [
       "('Not Good',\n",
       " ('MEDIUM SUV',),\n",
       " 5454,\n",
       " 0.0934128044394204,\n",
       " 0.8524538918412004,\n",
       " 0.9725150050615562)"
      ]
     },
     "execution_count": 165,
     "metadata": {},
     "output_type": "execute_result"
    }
   ],
   "source": [
    "first_rule = rules[0]\n",
    "first_rule"
   ]
  },
  {
   "cell_type": "code",
   "execution_count": 166,
   "metadata": {},
   "outputs": [
    {
     "data": {
      "text/plain": [
       "19"
      ]
     },
     "execution_count": 166,
     "metadata": {},
     "output_type": "execute_result"
    }
   ],
   "source": [
    "len(rules)"
   ]
  },
  {
   "cell_type": "code",
   "execution_count": 169,
   "metadata": {},
   "outputs": [
    {
     "data": {
      "text/plain": [
       "(0, 19)"
      ]
     },
     "execution_count": 169,
     "metadata": {},
     "output_type": "execute_result"
    }
   ],
   "source": [
    "rules_left = list()\n",
    "rules_not_left = list()\n",
    "for rule in rules:\n",
    "    if rule[0] == 'Good':\n",
    "        rules_left.append(rule)\n",
    "    elif rule[0] == 'Not Good':\n",
    "        rules_not_left.append(rule)\n",
    "len(rules_left), len(rules_not_left)"
   ]
  },
  {
   "cell_type": "code",
   "execution_count": 170,
   "metadata": {},
   "outputs": [
    {
     "data": {
      "text/plain": [
       "(0, 12)"
      ]
     },
     "execution_count": 170,
     "metadata": {},
     "output_type": "execute_result"
    }
   ],
   "source": [
    "min_lift = 1.0\n",
    "interesting_left_rules = list()\n",
    "interesting_not_left_rules = list()\n",
    "\n",
    "for rule in rules_left:\n",
    "    if rule[5] > min_lift:\n",
    "        interesting_left_rules.append(rule)\n",
    "for rule in rules_not_left:\n",
    "    if rule[5] > min_lift:\n",
    "        interesting_not_left_rules.append(rule)    \n",
    "        \n",
    "len(interesting_left_rules), len(interesting_not_left_rules)"
   ]
  },
  {
   "cell_type": "code",
   "execution_count": 173,
   "metadata": {},
   "outputs": [],
   "source": [
    "interesting_left_rules.sort(key=lambda rule: rule[5], reverse=True)\n",
    "\n",
    "for int_rule in interesting_left_rules:\n",
    "    print(int_rule)"
   ]
  },
  {
   "cell_type": "code",
   "execution_count": 175,
   "metadata": {},
   "outputs": [
    {
     "name": "stdout",
     "output_type": "stream",
     "text": [
      "('Not Good', ('[3572.2, 7144.4)_MMR',), 25577, 0.4380673449114514, 0.8773067160595459, 1.0008681449812935)\n",
      "('Not Good', ('MEDIUM',), 21801, 0.3733943068543829, 0.8846372342152248, 1.0092311062739872)\n",
      "('Not Good', ('[7144.4, 10716.6)_MMR',), 16508, 0.2827390127770356, 0.9171111111111111, 1.0462786614039887)\n",
      "('Not Good', ('CHEVROLET',), 12486, 0.21385263590586784, 0.9020372778500216, 1.0290818028166666)\n",
      "('Not Good', ('MEDIUM', '[3572.2, 7144.4)_MMR'), 11934, 0.20439831466447436, 0.8878143133462283, 1.0128556508467093)\n",
      "('Not Good', ('[60271.0, 71360.2)_Veh',), 11579, 0.19831808995307093, 0.8909664512157587, 1.0164517413865974)\n",
      "('Not Good', ('DODGE',), 9285, 0.1590278491419176, 0.8966682761950748, 1.0229566214765258)\n",
      "('Not Good', ('[49181.8, 60271.0)_Veh',), 7393, 0.12662282053917034, 0.9081193956516398, 1.0360205368423276)\n",
      "('Not Good', ('CHEVROLET', '[3572.2, 7144.4)_MMR'), 6601, 0.11305792484499709, 0.9025157232704403, 1.0296276333359633)\n",
      "('Not Good', ('LARGE',), 6456, 0.11057445277977597, 0.9067415730337078, 1.0344486592509685)\n",
      "('Not Good', ('[60271.0, 71360.2)_Veh', '[3572.2, 7144.4)_MMR'), 6135, 0.10507655944918302, 0.8888727904955086, 1.0140632057890258)\n",
      "('Not Good', ('[7144.4, 10716.6)_MMR', 'MEDIUM'), 5781, 0.09901346213133286, 0.9337748344370861, 1.0652893329837765)\n"
     ]
    }
   ],
   "source": [
    "interesting_not_left_rules.sort(key=lambda rule: rule[2], reverse=True)\n",
    "for int_rule in interesting_not_left_rules:\n",
    "    print(int_rule)"
   ]
  },
  {
   "cell_type": "code",
   "execution_count": 177,
   "metadata": {},
   "outputs": [
    {
     "data": {
      "text/plain": [
       "('Not Good',\n",
       " ('[3572.2, 7144.4)_MMR',),\n",
       " 25577,\n",
       " 0.4380673449114514,\n",
       " 0.8773067160595459,\n",
       " 1.0008681449812935)"
      ]
     },
     "execution_count": 177,
     "metadata": {},
     "output_type": "execute_result"
    }
   ],
   "source": [
    "first_int_rule = interesting_not_left_rules[0]\n",
    "first_int_rule"
   ]
  },
  {
   "cell_type": "code",
   "execution_count": 178,
   "metadata": {},
   "outputs": [
    {
     "data": {
      "text/plain": [
       "['Good', 'KIA', 'MEDIUM', '[3572.2, 7144.4)_MMR', '[60271.0, 71360.2)_Veh']"
      ]
     },
     "execution_count": 178,
     "metadata": {},
     "output_type": "execute_result"
    }
   ],
   "source": [
    "hr_baskets_list[0]"
   ]
  },
  {
   "cell_type": "code",
   "execution_count": 179,
   "metadata": {},
   "outputs": [],
   "source": [
    "from __future__ import division"
   ]
  },
  {
   "cell_type": "code",
   "execution_count": 182,
   "metadata": {},
   "outputs": [
    {
     "name": "stdout",
     "output_type": "stream",
     "text": [
      "counter 29154\n",
      "c_left 3577\n",
      "c_not_left 25577\n",
      "accuracy 12.269328394045415\n"
     ]
    }
   ],
   "source": [
    "counter = 0\n",
    "c_left = 0\n",
    "c_not_left = 0\n",
    "for row in hr_baskets_list:\n",
    "    if '[3572.2, 7144.4)_MMR' in row :\n",
    "        counter += 1\n",
    "    if '[3572.2, 7144.4)_MMR' in row and 'Good' in row:\n",
    "        c_left += 1\n",
    "    if '[3572.2, 7144.4)_MMR' in row and 'Not Good' in row:\n",
    "        c_not_left += 1\n",
    "accuracy = (c_left/counter) * 100\n",
    "print('counter', counter)\n",
    "print( 'c_left', c_left)\n",
    "print ('c_not_left', c_not_left)\n",
    "print ('accuracy', accuracy)"
   ]
  },
  {
   "cell_type": "code",
   "execution_count": null,
   "metadata": {},
   "outputs": [],
   "source": []
  }
 ],
 "metadata": {
  "kernelspec": {
   "display_name": "Python 3",
   "language": "python",
   "name": "python3"
  },
  "language_info": {
   "codemirror_mode": {
    "name": "ipython",
    "version": 3
   },
   "file_extension": ".py",
   "mimetype": "text/x-python",
   "name": "python",
   "nbconvert_exporter": "python",
   "pygments_lexer": "ipython3",
   "version": "3.7.4"
  }
 },
 "nbformat": 4,
 "nbformat_minor": 2
}
