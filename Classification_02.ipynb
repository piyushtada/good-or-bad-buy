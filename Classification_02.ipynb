{
 "cells": [
  {
   "cell_type": "markdown",
   "metadata": {},
   "source": [
    "# Classification"
   ]
  },
  {
   "cell_type": "code",
   "execution_count": 1,
   "metadata": {},
   "outputs": [],
   "source": [
    "%matplotlib inline\n",
    "\n",
    "import numpy as np\n",
    "import pandas as pd\n",
    "import matplotlib.pyplot as plt"
   ]
  },
  {
   "cell_type": "code",
   "execution_count": 2,
   "metadata": {},
   "outputs": [
    {
     "name": "stdout",
     "output_type": "stream",
     "text": [
      "<class 'pandas.core.frame.DataFrame'>\n",
      "RangeIndex: 58386 entries, 0 to 58385\n",
      "Data columns (total 34 columns):\n",
      " #   Column                             Non-Null Count  Dtype  \n",
      "---  ------                             --------------  -----  \n",
      " 0   RefId                              58386 non-null  int64  \n",
      " 1   IsBadBuy                           58386 non-null  int64  \n",
      " 2   PurchDate                          58386 non-null  object \n",
      " 3   Auction                            58386 non-null  object \n",
      " 4   VehYear                            58386 non-null  int64  \n",
      " 5   VehicleAge                         58386 non-null  int64  \n",
      " 6   Make                               58386 non-null  object \n",
      " 7   Model                              58386 non-null  object \n",
      " 8   Trim                               56475 non-null  object \n",
      " 9   SubModel                           58379 non-null  object \n",
      " 10  Color                              58379 non-null  object \n",
      " 11  Transmission                       58378 non-null  object \n",
      " 12  WheelTypeID                        55813 non-null  float64\n",
      " 13  WheelType                          55809 non-null  object \n",
      " 14  VehOdo                             58386 non-null  int64  \n",
      " 15  Nationality                        58382 non-null  object \n",
      " 16  Size                               58382 non-null  object \n",
      " 17  TopThreeAmericanName               58382 non-null  object \n",
      " 18  MMRAcquisitionAuctionAveragePrice  58373 non-null  float64\n",
      " 19  MMRAcquisitionAuctionCleanPrice    58373 non-null  float64\n",
      " 20  MMRAcquisitionRetailAveragePrice   58373 non-null  float64\n",
      " 21  MMRAcquisitonRetailCleanPrice      58373 non-null  float64\n",
      " 22  MMRCurrentAuctionAveragePrice      58141 non-null  float64\n",
      " 23  MMRCurrentAuctionCleanPrice        58141 non-null  float64\n",
      " 24  MMRCurrentRetailAveragePrice       58141 non-null  float64\n",
      " 25  MMRCurrentRetailCleanPrice         58141 non-null  float64\n",
      " 26  PRIMEUNIT                          2683 non-null   object \n",
      " 27  AUCGUART                           2683 non-null   object \n",
      " 28  BYRNO                              58386 non-null  int64  \n",
      " 29  VNZIP1                             58386 non-null  int64  \n",
      " 30  VNST                               58386 non-null  object \n",
      " 31  VehBCost                           58386 non-null  float64\n",
      " 32  IsOnlineSale                       58386 non-null  int64  \n",
      " 33  WarrantyCost                       58386 non-null  int64  \n",
      "dtypes: float64(10), int64(9), object(15)\n",
      "memory usage: 15.1+ MB\n"
     ]
    }
   ],
   "source": [
    "df = pd.read_csv(\"training.csv\", skipinitialspace=True, sep=',')\n",
    "df.info()"
   ]
  },
  {
   "cell_type": "code",
   "execution_count": 3,
   "metadata": {},
   "outputs": [],
   "source": [
    "col_drop=[ \"Model\", \"SubModel\", \"WheelTypeID\", \"Trim\", \"Color\", \"VNST\", \"BYRNO\", \"RefId\", \"WheelType\", \"AUCGUART\", \"PRIMEUNIT\", \"MMRAcquisitonRetailCleanPrice\", \"MMRAcquisitionRetailAveragePrice\", \"MMRAcquisitionAuctionCleanPrice\", \"MMRAcquisitionAuctionAveragePrice\", \"MMRCurrentRetailCleanPrice\", \"MMRCurrentRetailAveragePrice\",\"VehYear\",\"Transmission\",\"Size\",\"VNZIP1\"]"
   ]
  },
  {
   "cell_type": "code",
   "execution_count": 4,
   "metadata": {},
   "outputs": [],
   "source": [
    "df= df.drop(columns=col_drop)"
   ]
  },
  {
   "cell_type": "code",
   "execution_count": 5,
   "metadata": {},
   "outputs": [
    {
     "data": {
      "text/html": [
       "<div>\n",
       "<style scoped>\n",
       "    .dataframe tbody tr th:only-of-type {\n",
       "        vertical-align: middle;\n",
       "    }\n",
       "\n",
       "    .dataframe tbody tr th {\n",
       "        vertical-align: top;\n",
       "    }\n",
       "\n",
       "    .dataframe thead th {\n",
       "        text-align: right;\n",
       "    }\n",
       "</style>\n",
       "<table border=\"1\" class=\"dataframe\">\n",
       "  <thead>\n",
       "    <tr style=\"text-align: right;\">\n",
       "      <th></th>\n",
       "      <th>IsBadBuy</th>\n",
       "      <th>PurchDate</th>\n",
       "      <th>Auction</th>\n",
       "      <th>VehicleAge</th>\n",
       "      <th>Make</th>\n",
       "      <th>VehOdo</th>\n",
       "      <th>Nationality</th>\n",
       "      <th>TopThreeAmericanName</th>\n",
       "      <th>MMRCurrentAuctionAveragePrice</th>\n",
       "      <th>MMRCurrentAuctionCleanPrice</th>\n",
       "      <th>VehBCost</th>\n",
       "      <th>IsOnlineSale</th>\n",
       "      <th>WarrantyCost</th>\n",
       "    </tr>\n",
       "  </thead>\n",
       "  <tbody>\n",
       "    <tr>\n",
       "      <th>0</th>\n",
       "      <td>1</td>\n",
       "      <td>10/25/2010</td>\n",
       "      <td>ADESA</td>\n",
       "      <td>2</td>\n",
       "      <td>KIA</td>\n",
       "      <td>61184</td>\n",
       "      <td>OTHER ASIAN</td>\n",
       "      <td>OTHER</td>\n",
       "      <td>6628.0</td>\n",
       "      <td>7535.0</td>\n",
       "      <td>6100.0</td>\n",
       "      <td>0</td>\n",
       "      <td>533</td>\n",
       "    </tr>\n",
       "    <tr>\n",
       "      <th>1</th>\n",
       "      <td>0</td>\n",
       "      <td>5/27/2009</td>\n",
       "      <td>MANHEIM</td>\n",
       "      <td>3</td>\n",
       "      <td>DODGE</td>\n",
       "      <td>92383</td>\n",
       "      <td>AMERICAN</td>\n",
       "      <td>CHRYSLER</td>\n",
       "      <td>5480.0</td>\n",
       "      <td>6461.0</td>\n",
       "      <td>4000.0</td>\n",
       "      <td>0</td>\n",
       "      <td>1630</td>\n",
       "    </tr>\n",
       "    <tr>\n",
       "      <th>2</th>\n",
       "      <td>0</td>\n",
       "      <td>3/18/2010</td>\n",
       "      <td>OTHER</td>\n",
       "      <td>2</td>\n",
       "      <td>DODGE</td>\n",
       "      <td>45965</td>\n",
       "      <td>AMERICAN</td>\n",
       "      <td>CHRYSLER</td>\n",
       "      <td>7497.0</td>\n",
       "      <td>8102.0</td>\n",
       "      <td>7500.0</td>\n",
       "      <td>0</td>\n",
       "      <td>693</td>\n",
       "    </tr>\n",
       "    <tr>\n",
       "      <th>3</th>\n",
       "      <td>0</td>\n",
       "      <td>6/8/2009</td>\n",
       "      <td>OTHER</td>\n",
       "      <td>4</td>\n",
       "      <td>FORD</td>\n",
       "      <td>80169</td>\n",
       "      <td>AMERICAN</td>\n",
       "      <td>FORD</td>\n",
       "      <td>4817.0</td>\n",
       "      <td>6658.0</td>\n",
       "      <td>4725.0</td>\n",
       "      <td>0</td>\n",
       "      <td>1633</td>\n",
       "    </tr>\n",
       "    <tr>\n",
       "      <th>4</th>\n",
       "      <td>0</td>\n",
       "      <td>3/4/2009</td>\n",
       "      <td>MANHEIM</td>\n",
       "      <td>4</td>\n",
       "      <td>CHRYSLER</td>\n",
       "      <td>77372</td>\n",
       "      <td>AMERICAN</td>\n",
       "      <td>CHRYSLER</td>\n",
       "      <td>5370.0</td>\n",
       "      <td>6811.0</td>\n",
       "      <td>5670.0</td>\n",
       "      <td>0</td>\n",
       "      <td>1623</td>\n",
       "    </tr>\n",
       "  </tbody>\n",
       "</table>\n",
       "</div>"
      ],
      "text/plain": [
       "   IsBadBuy   PurchDate  Auction  VehicleAge      Make  VehOdo  Nationality  \\\n",
       "0         1  10/25/2010    ADESA           2       KIA   61184  OTHER ASIAN   \n",
       "1         0   5/27/2009  MANHEIM           3     DODGE   92383     AMERICAN   \n",
       "2         0   3/18/2010    OTHER           2     DODGE   45965     AMERICAN   \n",
       "3         0    6/8/2009    OTHER           4      FORD   80169     AMERICAN   \n",
       "4         0    3/4/2009  MANHEIM           4  CHRYSLER   77372     AMERICAN   \n",
       "\n",
       "  TopThreeAmericanName  MMRCurrentAuctionAveragePrice  \\\n",
       "0                OTHER                         6628.0   \n",
       "1             CHRYSLER                         5480.0   \n",
       "2             CHRYSLER                         7497.0   \n",
       "3                 FORD                         4817.0   \n",
       "4             CHRYSLER                         5370.0   \n",
       "\n",
       "   MMRCurrentAuctionCleanPrice  VehBCost  IsOnlineSale  WarrantyCost  \n",
       "0                       7535.0    6100.0             0           533  \n",
       "1                       6461.0    4000.0             0          1630  \n",
       "2                       8102.0    7500.0             0           693  \n",
       "3                       6658.0    4725.0             0          1633  \n",
       "4                       6811.0    5670.0             0          1623  "
      ]
     },
     "execution_count": 5,
     "metadata": {},
     "output_type": "execute_result"
    }
   ],
   "source": [
    "df.head()"
   ]
  },
  {
   "cell_type": "code",
   "execution_count": 6,
   "metadata": {},
   "outputs": [
    {
     "name": "stdout",
     "output_type": "stream",
     "text": [
      "<class 'pandas.core.frame.DataFrame'>\n",
      "RangeIndex: 58386 entries, 0 to 58385\n",
      "Data columns (total 13 columns):\n",
      " #   Column                         Non-Null Count  Dtype  \n",
      "---  ------                         --------------  -----  \n",
      " 0   IsBadBuy                       58386 non-null  int64  \n",
      " 1   PurchDate                      58386 non-null  object \n",
      " 2   Auction                        58386 non-null  object \n",
      " 3   VehicleAge                     58386 non-null  int64  \n",
      " 4   Make                           58386 non-null  object \n",
      " 5   VehOdo                         58386 non-null  int64  \n",
      " 6   Nationality                    58382 non-null  object \n",
      " 7   TopThreeAmericanName           58382 non-null  object \n",
      " 8   MMRCurrentAuctionAveragePrice  58141 non-null  float64\n",
      " 9   MMRCurrentAuctionCleanPrice    58141 non-null  float64\n",
      " 10  VehBCost                       58386 non-null  float64\n",
      " 11  IsOnlineSale                   58386 non-null  int64  \n",
      " 12  WarrantyCost                   58386 non-null  int64  \n",
      "dtypes: float64(3), int64(5), object(5)\n",
      "memory usage: 5.8+ MB\n"
     ]
    }
   ],
   "source": [
    "df.info()"
   ]
  },
  {
   "cell_type": "code",
   "execution_count": 7,
   "metadata": {},
   "outputs": [
    {
     "data": {
      "text/html": [
       "<div>\n",
       "<style scoped>\n",
       "    .dataframe tbody tr th:only-of-type {\n",
       "        vertical-align: middle;\n",
       "    }\n",
       "\n",
       "    .dataframe tbody tr th {\n",
       "        vertical-align: top;\n",
       "    }\n",
       "\n",
       "    .dataframe thead th {\n",
       "        text-align: right;\n",
       "    }\n",
       "</style>\n",
       "<table border=\"1\" class=\"dataframe\">\n",
       "  <thead>\n",
       "    <tr style=\"text-align: right;\">\n",
       "      <th></th>\n",
       "      <th>IsBadBuy</th>\n",
       "      <th>PurchDate</th>\n",
       "      <th>Auction</th>\n",
       "      <th>VehicleAge</th>\n",
       "      <th>Make</th>\n",
       "      <th>VehOdo</th>\n",
       "      <th>Nationality</th>\n",
       "      <th>TopThreeAmericanName</th>\n",
       "      <th>MMRCurrentAuctionAveragePrice</th>\n",
       "      <th>MMRCurrentAuctionCleanPrice</th>\n",
       "      <th>VehBCost</th>\n",
       "      <th>IsOnlineSale</th>\n",
       "      <th>WarrantyCost</th>\n",
       "    </tr>\n",
       "  </thead>\n",
       "  <tbody>\n",
       "    <tr>\n",
       "      <th>0</th>\n",
       "      <td>1</td>\n",
       "      <td>2010</td>\n",
       "      <td>ADESA</td>\n",
       "      <td>2</td>\n",
       "      <td>KIA</td>\n",
       "      <td>61184</td>\n",
       "      <td>OTHER ASIAN</td>\n",
       "      <td>OTHER</td>\n",
       "      <td>6628.0</td>\n",
       "      <td>7535.0</td>\n",
       "      <td>6100.0</td>\n",
       "      <td>0</td>\n",
       "      <td>533</td>\n",
       "    </tr>\n",
       "    <tr>\n",
       "      <th>1</th>\n",
       "      <td>0</td>\n",
       "      <td>2009</td>\n",
       "      <td>MANHEIM</td>\n",
       "      <td>3</td>\n",
       "      <td>DODGE</td>\n",
       "      <td>92383</td>\n",
       "      <td>AMERICAN</td>\n",
       "      <td>CHRYSLER</td>\n",
       "      <td>5480.0</td>\n",
       "      <td>6461.0</td>\n",
       "      <td>4000.0</td>\n",
       "      <td>0</td>\n",
       "      <td>1630</td>\n",
       "    </tr>\n",
       "    <tr>\n",
       "      <th>2</th>\n",
       "      <td>0</td>\n",
       "      <td>2010</td>\n",
       "      <td>OTHER</td>\n",
       "      <td>2</td>\n",
       "      <td>DODGE</td>\n",
       "      <td>45965</td>\n",
       "      <td>AMERICAN</td>\n",
       "      <td>CHRYSLER</td>\n",
       "      <td>7497.0</td>\n",
       "      <td>8102.0</td>\n",
       "      <td>7500.0</td>\n",
       "      <td>0</td>\n",
       "      <td>693</td>\n",
       "    </tr>\n",
       "    <tr>\n",
       "      <th>3</th>\n",
       "      <td>0</td>\n",
       "      <td>2009</td>\n",
       "      <td>OTHER</td>\n",
       "      <td>4</td>\n",
       "      <td>FORD</td>\n",
       "      <td>80169</td>\n",
       "      <td>AMERICAN</td>\n",
       "      <td>FORD</td>\n",
       "      <td>4817.0</td>\n",
       "      <td>6658.0</td>\n",
       "      <td>4725.0</td>\n",
       "      <td>0</td>\n",
       "      <td>1633</td>\n",
       "    </tr>\n",
       "    <tr>\n",
       "      <th>4</th>\n",
       "      <td>0</td>\n",
       "      <td>2009</td>\n",
       "      <td>MANHEIM</td>\n",
       "      <td>4</td>\n",
       "      <td>CHRYSLER</td>\n",
       "      <td>77372</td>\n",
       "      <td>AMERICAN</td>\n",
       "      <td>CHRYSLER</td>\n",
       "      <td>5370.0</td>\n",
       "      <td>6811.0</td>\n",
       "      <td>5670.0</td>\n",
       "      <td>0</td>\n",
       "      <td>1623</td>\n",
       "    </tr>\n",
       "  </tbody>\n",
       "</table>\n",
       "</div>"
      ],
      "text/plain": [
       "   IsBadBuy  PurchDate  Auction  VehicleAge      Make  VehOdo  Nationality  \\\n",
       "0         1       2010    ADESA           2       KIA   61184  OTHER ASIAN   \n",
       "1         0       2009  MANHEIM           3     DODGE   92383     AMERICAN   \n",
       "2         0       2010    OTHER           2     DODGE   45965     AMERICAN   \n",
       "3         0       2009    OTHER           4      FORD   80169     AMERICAN   \n",
       "4         0       2009  MANHEIM           4  CHRYSLER   77372     AMERICAN   \n",
       "\n",
       "  TopThreeAmericanName  MMRCurrentAuctionAveragePrice  \\\n",
       "0                OTHER                         6628.0   \n",
       "1             CHRYSLER                         5480.0   \n",
       "2             CHRYSLER                         7497.0   \n",
       "3                 FORD                         4817.0   \n",
       "4             CHRYSLER                         5370.0   \n",
       "\n",
       "   MMRCurrentAuctionCleanPrice  VehBCost  IsOnlineSale  WarrantyCost  \n",
       "0                       7535.0    6100.0             0           533  \n",
       "1                       6461.0    4000.0             0          1630  \n",
       "2                       8102.0    7500.0             0           693  \n",
       "3                       6658.0    4725.0             0          1633  \n",
       "4                       6811.0    5670.0             0          1623  "
      ]
     },
     "execution_count": 7,
     "metadata": {},
     "output_type": "execute_result"
    }
   ],
   "source": [
    "df.PurchDate = [int(x[-4:]) for x in df.PurchDate]\n",
    "df.head()"
   ]
  },
  {
   "cell_type": "code",
   "execution_count": 8,
   "metadata": {},
   "outputs": [
    {
     "data": {
      "text/plain": [
       "IsBadBuy                           0\n",
       "PurchDate                          0\n",
       "Auction                            0\n",
       "VehicleAge                         0\n",
       "Make                               0\n",
       "VehOdo                             0\n",
       "Nationality                        4\n",
       "TopThreeAmericanName               4\n",
       "MMRCurrentAuctionAveragePrice    245\n",
       "MMRCurrentAuctionCleanPrice      245\n",
       "VehBCost                           0\n",
       "IsOnlineSale                       0\n",
       "WarrantyCost                       0\n",
       "dtype: int64"
      ]
     },
     "execution_count": 8,
     "metadata": {},
     "output_type": "execute_result"
    }
   ],
   "source": [
    "df.isnull().sum()"
   ]
  },
  {
   "cell_type": "code",
   "execution_count": 9,
   "metadata": {},
   "outputs": [
    {
     "data": {
      "text/plain": [
       "IsBadBuy                           0\n",
       "PurchDate                          0\n",
       "Auction                            0\n",
       "VehicleAge                         0\n",
       "Make                               0\n",
       "VehOdo                             0\n",
       "Nationality                        0\n",
       "TopThreeAmericanName               0\n",
       "MMRCurrentAuctionAveragePrice    242\n",
       "MMRCurrentAuctionCleanPrice      242\n",
       "VehBCost                           0\n",
       "IsOnlineSale                       0\n",
       "WarrantyCost                       0\n",
       "dtype: int64"
      ]
     },
     "execution_count": 9,
     "metadata": {},
     "output_type": "execute_result"
    }
   ],
   "source": [
    "df = df[~df['Nationality'].isnull()]\n",
    "df.isnull().sum()"
   ]
  },
  {
   "cell_type": "code",
   "execution_count": 10,
   "metadata": {},
   "outputs": [
    {
     "data": {
      "text/plain": [
       "IsBadBuy                         0\n",
       "PurchDate                        0\n",
       "Auction                          0\n",
       "VehicleAge                       0\n",
       "Make                             0\n",
       "VehOdo                           0\n",
       "Nationality                      0\n",
       "TopThreeAmericanName             0\n",
       "MMRCurrentAuctionAveragePrice    0\n",
       "MMRCurrentAuctionCleanPrice      0\n",
       "VehBCost                         0\n",
       "IsOnlineSale                     0\n",
       "WarrantyCost                     0\n",
       "dtype: int64"
      ]
     },
     "execution_count": 10,
     "metadata": {},
     "output_type": "execute_result"
    }
   ],
   "source": [
    "df = df[~df['MMRCurrentAuctionAveragePrice'].isnull()]\n",
    "df.isnull().sum()"
   ]
  },
  {
   "cell_type": "code",
   "execution_count": 11,
   "metadata": {},
   "outputs": [],
   "source": [
    "# It's important if the name is different from OTHER, because it signifies it is a top three\n",
    "mask = df.TopThreeAmericanName == \"OTHER\"\n",
    "column_name = 'TopThreeAmericanName'\n",
    "df.loc[mask, column_name] = 0\n",
    "mask = df.TopThreeAmericanName != 0\n",
    "df.loc[mask, column_name] = 1"
   ]
  },
  {
   "cell_type": "code",
   "execution_count": 12,
   "metadata": {},
   "outputs": [
    {
     "data": {
      "text/plain": [
       "393"
      ]
     },
     "execution_count": 12,
     "metadata": {},
     "output_type": "execute_result"
    }
   ],
   "source": [
    "df[df[\"MMRCurrentAuctionAveragePrice\"]==0].shape[0]"
   ]
  },
  {
   "cell_type": "code",
   "execution_count": 13,
   "metadata": {},
   "outputs": [
    {
     "data": {
      "text/plain": [
       "<AxesSubplot:>"
      ]
     },
     "execution_count": 13,
     "metadata": {},
     "output_type": "execute_result"
    },
    {
     "data": {
      "image/png": "[encoded data removed]",
      "text/plain": [
       "<Figure size 432x288 with 1 Axes>"
      ]
     },
     "metadata": {
      "needs_background": "light"
     },
     "output_type": "display_data"
    }
   ],
   "source": [
    "df[\"MMRCurrentAuctionAveragePrice\"].hist(bins=10)"
   ]
  },
  {
   "cell_type": "code",
   "execution_count": 14,
   "metadata": {},
   "outputs": [
    {
     "data": {
      "text/plain": [
       "6131.597385620915"
      ]
     },
     "execution_count": 14,
     "metadata": {},
     "output_type": "execute_result"
    }
   ],
   "source": [
    "df.MMRCurrentAuctionAveragePrice.mean()"
   ]
  },
  {
   "cell_type": "code",
   "execution_count": 15,
   "metadata": {},
   "outputs": [],
   "source": [
    "df.MMRCurrentAuctionAveragePrice = df.MMRCurrentAuctionAveragePrice.replace(0,df.MMRCurrentAuctionAveragePrice.mean())"
   ]
  },
  {
   "cell_type": "code",
   "execution_count": 16,
   "metadata": {},
   "outputs": [],
   "source": [
    "df.VehBCost = df.VehBCost.replace(0,df.VehBCost.mean())"
   ]
  },
  {
   "cell_type": "code",
   "execution_count": 17,
   "metadata": {},
   "outputs": [
    {
     "data": {
      "text/plain": [
       "<AxesSubplot:>"
      ]
     },
     "execution_count": 17,
     "metadata": {},
     "output_type": "execute_result"
    },
    {
     "data": {
      "image/png": "[encoded data removed]",
      "text/plain": [
       "<Figure size 432x288 with 1 Axes>"
      ]
     },
     "metadata": {
      "needs_background": "light"
     },
     "output_type": "display_data"
    }
   ],
   "source": [
    "df.VehBCost.hist(bins=10)"
   ]
  },
  {
   "cell_type": "code",
   "execution_count": 18,
   "metadata": {},
   "outputs": [
    {
     "data": {
      "text/plain": [
       "(8, 13)"
      ]
     },
     "execution_count": 18,
     "metadata": {},
     "output_type": "execute_result"
    }
   ],
   "source": [
    "df[df[\"VehBCost\"]<=2000].shape"
   ]
  },
  {
   "cell_type": "code",
   "execution_count": 19,
   "metadata": {},
   "outputs": [
    {
     "data": {
      "text/plain": [
       "(21, 13)"
      ]
     },
     "execution_count": 19,
     "metadata": {},
     "output_type": "execute_result"
    }
   ],
   "source": [
    "df[df[\"VehBCost\"]>=13000].shape"
   ]
  },
  {
   "cell_type": "code",
   "execution_count": 20,
   "metadata": {},
   "outputs": [],
   "source": [
    "df.drop(df[df.VehBCost <= 2000].index, inplace = True) \n",
    "\n",
    "df.drop(df[df.VehBCost >= 13000].index, inplace = True) "
   ]
  },
  {
   "cell_type": "code",
   "execution_count": 21,
   "metadata": {},
   "outputs": [
    {
     "data": {
      "text/plain": [
       "<AxesSubplot:>"
      ]
     },
     "execution_count": 21,
     "metadata": {},
     "output_type": "execute_result"
    },
    {
     "data": {
      "image/png": "[encoded data removed]",
      "text/plain": [
       "<Figure size 432x288 with 1 Axes>"
      ]
     },
     "metadata": {
      "needs_background": "light"
     },
     "output_type": "display_data"
    }
   ],
   "source": [
    "df.MMRCurrentAuctionAveragePrice.hist(bins=10)"
   ]
  },
  {
   "cell_type": "code",
   "execution_count": 22,
   "metadata": {},
   "outputs": [
    {
     "data": {
      "text/plain": [
       "(86, 13)"
      ]
     },
     "execution_count": 22,
     "metadata": {},
     "output_type": "execute_result"
    }
   ],
   "source": [
    "df[df[\"MMRCurrentAuctionAveragePrice\"]<=1500].shape"
   ]
  },
  {
   "cell_type": "code",
   "execution_count": 23,
   "metadata": {},
   "outputs": [
    {
     "data": {
      "text/plain": [
       "(85, 13)"
      ]
     },
     "execution_count": 23,
     "metadata": {},
     "output_type": "execute_result"
    }
   ],
   "source": [
    "df[df[\"MMRCurrentAuctionAveragePrice\"]>=15000].shape"
   ]
  },
  {
   "cell_type": "code",
   "execution_count": 24,
   "metadata": {},
   "outputs": [],
   "source": [
    "df.drop(df[df.MMRCurrentAuctionAveragePrice <= 1500].index, inplace = True)\n",
    "\n",
    "df.drop(df[df.MMRCurrentAuctionAveragePrice <= 2000].index, inplace = True)"
   ]
  },
  {
   "cell_type": "code",
   "execution_count": 25,
   "metadata": {},
   "outputs": [
    {
     "data": {
      "text/plain": [
       "<AxesSubplot:>"
      ]
     },
     "execution_count": 25,
     "metadata": {},
     "output_type": "execute_result"
    },
    {
     "data": {
      "image/png": "[encoded data removed]",
      "text/plain": [
       "<Figure size 432x288 with 1 Axes>"
      ]
     },
     "metadata": {
      "needs_background": "light"
     },
     "output_type": "display_data"
    }
   ],
   "source": [
    "df.MMRCurrentAuctionAveragePrice.hist(bins=10)"
   ]
  },
  {
   "cell_type": "code",
   "execution_count": 26,
   "metadata": {},
   "outputs": [
    {
     "data": {
      "text/plain": [
       "(0, 13)"
      ]
     },
     "execution_count": 26,
     "metadata": {},
     "output_type": "execute_result"
    }
   ],
   "source": [
    "df[df[\"MMRCurrentAuctionAveragePrice\"]<=1800].shape"
   ]
  },
  {
   "cell_type": "code",
   "execution_count": 27,
   "metadata": {},
   "outputs": [
    {
     "data": {
      "text/plain": [
       "(85, 13)"
      ]
     },
     "execution_count": 27,
     "metadata": {},
     "output_type": "execute_result"
    }
   ],
   "source": [
    "df[df[\"MMRCurrentAuctionAveragePrice\"]>=15000].shape"
   ]
  },
  {
   "cell_type": "code",
   "execution_count": 28,
   "metadata": {},
   "outputs": [],
   "source": [
    "df.drop(df[df.MMRCurrentAuctionAveragePrice <= 1800].index, inplace = True)\n",
    "\n",
    "df.drop(df[df.MMRCurrentAuctionAveragePrice >= 15000].index, inplace = True)"
   ]
  },
  {
   "cell_type": "code",
   "execution_count": 29,
   "metadata": {},
   "outputs": [
    {
     "data": {
      "text/html": [
       "<div>\n",
       "<style scoped>\n",
       "    .dataframe tbody tr th:only-of-type {\n",
       "        vertical-align: middle;\n",
       "    }\n",
       "\n",
       "    .dataframe tbody tr th {\n",
       "        vertical-align: top;\n",
       "    }\n",
       "\n",
       "    .dataframe thead th {\n",
       "        text-align: right;\n",
       "    }\n",
       "</style>\n",
       "<table border=\"1\" class=\"dataframe\">\n",
       "  <thead>\n",
       "    <tr style=\"text-align: right;\">\n",
       "      <th></th>\n",
       "      <th>IsBadBuy</th>\n",
       "      <th>PurchDate</th>\n",
       "      <th>VehicleAge</th>\n",
       "      <th>VehOdo</th>\n",
       "      <th>MMRCurrentAuctionAveragePrice</th>\n",
       "      <th>MMRCurrentAuctionCleanPrice</th>\n",
       "      <th>VehBCost</th>\n",
       "      <th>IsOnlineSale</th>\n",
       "      <th>WarrantyCost</th>\n",
       "    </tr>\n",
       "  </thead>\n",
       "  <tbody>\n",
       "    <tr>\n",
       "      <th>count</th>\n",
       "      <td>57472.000000</td>\n",
       "      <td>57472.000000</td>\n",
       "      <td>57472.000000</td>\n",
       "      <td>57472.000000</td>\n",
       "      <td>57472.000000</td>\n",
       "      <td>57472.000000</td>\n",
       "      <td>57472.000000</td>\n",
       "      <td>57472.000000</td>\n",
       "      <td>57472.000000</td>\n",
       "    </tr>\n",
       "    <tr>\n",
       "      <th>mean</th>\n",
       "      <td>0.121677</td>\n",
       "      <td>2009.522272</td>\n",
       "      <td>4.150630</td>\n",
       "      <td>71463.247842</td>\n",
       "      <td>6196.319961</td>\n",
       "      <td>7416.115291</td>\n",
       "      <td>6745.963507</td>\n",
       "      <td>0.025978</td>\n",
       "      <td>1273.468506</td>\n",
       "    </tr>\n",
       "    <tr>\n",
       "      <th>std</th>\n",
       "      <td>0.326915</td>\n",
       "      <td>0.499508</td>\n",
       "      <td>1.687022</td>\n",
       "      <td>14542.939947</td>\n",
       "      <td>2299.255385</td>\n",
       "      <td>2598.993574</td>\n",
       "      <td>1715.943266</td>\n",
       "      <td>0.159071</td>\n",
       "      <td>593.981521</td>\n",
       "    </tr>\n",
       "    <tr>\n",
       "      <th>min</th>\n",
       "      <td>0.000000</td>\n",
       "      <td>2009.000000</td>\n",
       "      <td>0.000000</td>\n",
       "      <td>5368.000000</td>\n",
       "      <td>2002.000000</td>\n",
       "      <td>0.000000</td>\n",
       "      <td>2010.000000</td>\n",
       "      <td>0.000000</td>\n",
       "      <td>462.000000</td>\n",
       "    </tr>\n",
       "    <tr>\n",
       "      <th>25%</th>\n",
       "      <td>0.000000</td>\n",
       "      <td>2009.000000</td>\n",
       "      <td>3.000000</td>\n",
       "      <td>61784.750000</td>\n",
       "      <td>4372.000000</td>\n",
       "      <td>5474.000000</td>\n",
       "      <td>5470.000000</td>\n",
       "      <td>0.000000</td>\n",
       "      <td>837.000000</td>\n",
       "    </tr>\n",
       "    <tr>\n",
       "      <th>50%</th>\n",
       "      <td>0.000000</td>\n",
       "      <td>2010.000000</td>\n",
       "      <td>4.000000</td>\n",
       "      <td>73325.000000</td>\n",
       "      <td>6131.597386</td>\n",
       "      <td>7341.000000</td>\n",
       "      <td>6730.000000</td>\n",
       "      <td>0.000000</td>\n",
       "      <td>1155.000000</td>\n",
       "    </tr>\n",
       "    <tr>\n",
       "      <th>75%</th>\n",
       "      <td>0.000000</td>\n",
       "      <td>2010.000000</td>\n",
       "      <td>5.000000</td>\n",
       "      <td>82389.250000</td>\n",
       "      <td>7743.000000</td>\n",
       "      <td>9022.000000</td>\n",
       "      <td>7900.000000</td>\n",
       "      <td>0.000000</td>\n",
       "      <td>1623.000000</td>\n",
       "    </tr>\n",
       "    <tr>\n",
       "      <th>max</th>\n",
       "      <td>1.000000</td>\n",
       "      <td>2010.000000</td>\n",
       "      <td>9.000000</td>\n",
       "      <td>115717.000000</td>\n",
       "      <td>14995.000000</td>\n",
       "      <td>19520.000000</td>\n",
       "      <td>12590.000000</td>\n",
       "      <td>1.000000</td>\n",
       "      <td>7498.000000</td>\n",
       "    </tr>\n",
       "  </tbody>\n",
       "</table>\n",
       "</div>"
      ],
      "text/plain": [
       "           IsBadBuy     PurchDate    VehicleAge         VehOdo  \\\n",
       "count  57472.000000  57472.000000  57472.000000   57472.000000   \n",
       "mean       0.121677   2009.522272      4.150630   71463.247842   \n",
       "std        0.326915      0.499508      1.687022   14542.939947   \n",
       "min        0.000000   2009.000000      0.000000    5368.000000   \n",
       "25%        0.000000   2009.000000      3.000000   61784.750000   \n",
       "50%        0.000000   2010.000000      4.000000   73325.000000   \n",
       "75%        0.000000   2010.000000      5.000000   82389.250000   \n",
       "max        1.000000   2010.000000      9.000000  115717.000000   \n",
       "\n",
       "       MMRCurrentAuctionAveragePrice  MMRCurrentAuctionCleanPrice  \\\n",
       "count                   57472.000000                 57472.000000   \n",
       "mean                     6196.319961                  7416.115291   \n",
       "std                      2299.255385                  2598.993574   \n",
       "min                      2002.000000                     0.000000   \n",
       "25%                      4372.000000                  5474.000000   \n",
       "50%                      6131.597386                  7341.000000   \n",
       "75%                      7743.000000                  9022.000000   \n",
       "max                     14995.000000                 19520.000000   \n",
       "\n",
       "           VehBCost  IsOnlineSale  WarrantyCost  \n",
       "count  57472.000000  57472.000000  57472.000000  \n",
       "mean    6745.963507      0.025978   1273.468506  \n",
       "std     1715.943266      0.159071    593.981521  \n",
       "min     2010.000000      0.000000    462.000000  \n",
       "25%     5470.000000      0.000000    837.000000  \n",
       "50%     6730.000000      0.000000   1155.000000  \n",
       "75%     7900.000000      0.000000   1623.000000  \n",
       "max    12590.000000      1.000000   7498.000000  "
      ]
     },
     "execution_count": 29,
     "metadata": {},
     "output_type": "execute_result"
    }
   ],
   "source": [
    "df.describe()"
   ]
  },
  {
   "cell_type": "code",
   "execution_count": 30,
   "metadata": {},
   "outputs": [],
   "source": [
    "def clean_data(df):\n",
    "    make_mapping = {label : idx for idx, label in enumerate(np.unique(df.Make))}\n",
    "    model_mapping = {label : idx for idx, label in enumerate(np.unique(df.Model))}\n",
    "    nationality_mapping = {label : idx for idx, label in enumerate(np.unique(df.Nationality))}\n",
    "    auction_mapping = {label : idx for idx, label in enumerate(np.unique(df.Auction))}\n",
    "    attributes_mapping = {'Make': make_mapping, 'Nationality' : nationality_mapping, \n",
    "                          'Auction': auction_mapping}\n",
    "    for key in attributes_mapping:\n",
    "        mapping = attrizbutes_mapping[key]\n",
    "    df[key] = df[key].map(mapping)\n",
    "    return df"
   ]
  },
  {
   "cell_type": "markdown",
   "metadata": {},
   "source": [
    "df = df\n",
    "for key in attributes_mapping:\n",
    "    mapping = attributes_mapping[key]\n",
    "    df[key] = df[key].map(mapping)\n",
    "df.head()"
   ]
  },
  {
   "cell_type": "markdown",
   "metadata": {},
   "source": [
    "## Trees"
   ]
  },
  {
   "cell_type": "code",
   "execution_count": null,
   "metadata": {},
   "outputs": [],
   "source": [
    "from sklearn import tree"
   ]
  },
  {
   "cell_type": "code",
   "execution_count": null,
   "metadata": {},
   "outputs": [],
   "source": [
    "X = df.drop(columns=[\"IsBadBuy\"])\n",
    "X.head()"
   ]
  },
  {
   "cell_type": "code",
   "execution_count": null,
   "metadata": {},
   "outputs": [],
   "source": [
    "y = df.IsBadBuy"
   ]
  },
  {
   "cell_type": "code",
   "execution_count": null,
   "metadata": {},
   "outputs": [],
   "source": [
    "CLF = tree.DecisionTreeClassifier()\n",
    "CLF = CLF.fit(X, y)"
   ]
  },
  {
   "cell_type": "code",
   "execution_count": null,
   "metadata": {},
   "outputs": [],
   "source": [
    "test = pd.read_csv(\"test.csv\", skipinitialspace=True, sep=',')\n",
    "test= test.drop(columns=col_drop)"
   ]
  },
  {
   "cell_type": "code",
   "execution_count": null,
   "metadata": {},
   "outputs": [],
   "source": [
    "test.head()"
   ]
  },
  {
   "cell_type": "code",
   "execution_count": null,
   "metadata": {},
   "outputs": [],
   "source": [
    "test.PurchDate = [int(x[-4:]) for x in test.PurchDate]\n",
    "\n",
    "mask = test.TopThreeAmericanName == \"OTHER\"\n",
    "column_name = 'TopThreeAmericanName'\n",
    "test.loc[mask, column_name] = 0\n",
    "mask = test.TopThreeAmericanName != 0\n",
    "test.loc[mask, column_name] = 1\n",
    "\n",
    "make_mapping = {label : idx for idx, label in enumerate(np.unique(df.Make))}\n",
    "model_mapping = {label : idx for idx, label in enumerate(np.unique(df.Model))}\n",
    "nationality_mapping = {label : idx for idx, label in enumerate(np.unique(df.Nationality))}\n",
    "auction_mapping = {label : idx for idx, label in enumerate(np.unique(df.Auction))}\n",
    "\n",
    "\n",
    "attributes_mapping = {'Make': make_mapping, 'Nationality' : nationality_mapping, \n",
    "                      'Auction': auction_mapping}\n",
    "\n",
    "for key in attributes_mapping:\n",
    "    mapping = attributes_mapping[key]\n",
    "    test[key] = test[key].map(mapping)\n",
    "\n",
    "\n",
    "X_test= test.drop(columns=\"IsBadBuy\")\n",
    "y_test = test.IsBadBuy\n",
    "\n",
    "import graphviz "
   ]
  },
  {
   "cell_type": "code",
   "execution_count": null,
   "metadata": {},
   "outputs": [],
   "source": [
    "#tree.plot_tree(CLF.fit(X, y)) "
   ]
  },
  {
   "cell_type": "code",
   "execution_count": null,
   "metadata": {},
   "outputs": [],
   "source": [
    "from sklearn.tree import DecisionTreeClassifier\n",
    "from sklearn.model_selection import RandomizedSearchCV\n",
    "\n",
    "clf = DecisionTreeClassifier(criterion='gini', max_depth=6, min_samples_split=100, min_samples_leaf=100)\n",
    "clf = clf.fit(X, y)"
   ]
  },
  {
   "cell_type": "code",
   "execution_count": null,
   "metadata": {},
   "outputs": [],
   "source": [
    "import pydotplus\n",
    "from sklearn import tree\n",
    "from IPython.display import Image\n",
    "\n",
    "attributes = [col for col in df.columns if col != 'IsBadBuy']\n",
    "\n",
    "dot_data = tree.export_graphviz(CLF, out_file=None,\n",
    "                                feature_names=attributes,\n",
    "                                class_names=['BadBuy' if x == 1 else 'GoodBuy' for x in CLF.classes_],  \n",
    "                                filled=True, rounded=True,  \n",
    "                                special_characters=True,\n",
    "                                max_depth=6)  \n",
    "graph = pydotplus.graph_from_dot_data(dot_data) \n",
    "Image(graph.create_png())"
   ]
  },
  {
   "cell_type": "code",
   "execution_count": null,
   "metadata": {},
   "outputs": [],
   "source": [
    "from sklearn.metrics import confusion_matrix\n",
    "from sklearn.metrics import accuracy_score, f1_score, classification_report\n",
    "from sklearn.metrics import roc_curve, auc, roc_auc_score"
   ]
  },
  {
   "cell_type": "code",
   "execution_count": null,
   "metadata": {},
   "outputs": [],
   "source": [
    "test = test.dropna()\n",
    "test.Make = test.Make.astype(int)\n",
    "test.Nationality = test.Nationality.astype(int)\n",
    "test.info()"
   ]
  },
  {
   "cell_type": "code",
   "execution_count": null,
   "metadata": {},
   "outputs": [],
   "source": [
    "y_pred_tr = clf.predict(X)\n",
    "print('Train Accuracy %s' % accuracy_score(y, y_pred_tr))"
   ]
  },
  {
   "cell_type": "code",
   "execution_count": null,
   "metadata": {},
   "outputs": [],
   "source": [
    "y_pred = clf.predict(X_test)\n",
    "y_pred_tr = clf.predict(X)\n",
    "\n",
    "print('Train Accuracy %s' % accuracy_score(y, y_pred_tr))\n",
    "print('Train F1-score %s' % f1_score(y, y_pred_tr, average=None))\n",
    "print()\n",
    "\n",
    "print('Test Accuracy %s' % accuracy_score(y_test, y_pred))\n",
    "print('Test F1-score %s' % f1_score(y_test, y_pred, average=None))\n",
    "print(classification_report(y_test, y_pred))\n",
    "confusion_matrix(y_test, y_pred)"
   ]
  },
  {
   "cell_type": "code",
   "execution_count": null,
   "metadata": {},
   "outputs": [],
   "source": []
  }
 ],
 "metadata": {
  "hide_input": false,
  "kernelspec": {
   "display_name": "Python 3",
   "language": "python",
   "name": "python3"
  },
  "language_info": {
   "codemirror_mode": {
    "name": "ipython",
    "version": 3
   },
   "file_extension": ".py",
   "mimetype": "text/x-python",
   "name": "python",
   "nbconvert_exporter": "python",
   "pygments_lexer": "ipython3",
   "version": "3.8.5"
  }
 },
 "nbformat": 4,
 "nbformat_minor": 2
}
