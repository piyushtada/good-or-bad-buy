{
 "cells": [
  {
   "cell_type": "markdown",
   "metadata": {
    "colab_type": "text",
    "id": "aXGcTMvP6Q9w"
   },
   "source": [
    "# Importing libries that we will need "
   ]
  },
  {
   "cell_type": "code",
   "execution_count": 0,
   "metadata": {
    "colab": {},
    "colab_type": "code",
    "id": "uR5kqVyZ6Q9z"
   },
   "outputs": [],
   "source": [
    "%matplotlib inline\n",
    "import numpy as np\n",
    "import pandas as pd\n",
    "import scipy.stats as stats\n",
    "import matplotlib.pyplot as plt"
   ]
  },
  {
   "cell_type": "markdown",
   "metadata": {
    "colab_type": "text",
    "id": "dtXUSvnj6Q93"
   },
   "source": [
    "# List of columns that are not useful "
   ]
  },
  {
   "cell_type": "code",
   "execution_count": 0,
   "metadata": {
    "colab": {},
    "colab_type": "code",
    "id": "o6V_Gyey6Q94"
   },
   "outputs": [],
   "source": [
    "column_to_drop = [\"RefId\",\"PurchDate\",\"Auction\",\"VehYear\",\n",
    "                  \"Trim\",\"SubModel\",\"Color\",\"WheelType\",\n",
    "                  \"Nationality\",\"TopThreeAmericanName\",\n",
    "                  \"MMRAcquisitionAuctionCleanPrice\",\n",
    "                  \"MMRAcquisitionRetailAveragePrice\",\n",
    "                  \"MMRAcquisitonRetailCleanPrice\",\n",
    "                  \"MMRCurrentAuctionCleanPrice\",\"WheelTypeID\",\n",
    "                  \"MMRCurrentRetailAveragePrice\",\"VNZIP1\",\n",
    "                  \"MMRCurrentRetailCleanPrice\",\"PRIMEUNIT\",\n",
    "                  \"AUCGUART\",\"BYRNO\",\"VNST\",\"IsOnlineSale\",\"Model\"]"
   ]
  },
  {
   "cell_type": "code",
   "execution_count": 0,
   "metadata": {
    "colab": {},
    "colab_type": "code",
    "id": "6ixvn8dU6ZRI"
   },
   "outputs": [],
   "source": [
    "#upload data\n",
    "from google.colab import files\n",
    "uploaded = files.upload()"
   ]
  },
  {
   "cell_type": "code",
   "execution_count": 0,
   "metadata": {
    "colab": {},
    "colab_type": "code",
    "id": "ImkE90gt6Q97"
   },
   "outputs": [],
   "source": [
    "df = pd.read_csv(\"training.csv\")"
   ]
  },
  {
   "cell_type": "code",
   "execution_count": 0,
   "metadata": {
    "colab": {},
    "colab_type": "code",
    "id": "xFGvmB5R6Q9-"
   },
   "outputs": [],
   "source": [
    "df = df.drop(columns= column_to_drop)"
   ]
  },
  {
   "cell_type": "code",
   "execution_count": 0,
   "metadata": {
    "colab": {},
    "colab_type": "code",
    "id": "kMXoCMPq6Q-B"
   },
   "outputs": [],
   "source": [
    "df = df.dropna()"
   ]
  },
  {
   "cell_type": "code",
   "execution_count": 0,
   "metadata": {
    "colab": {},
    "colab_type": "code",
    "id": "Lce1yzUY6Q-D"
   },
   "outputs": [],
   "source": [
    "df.MMRCurrentAuctionAveragePrice = df.MMRCurrentAuctionAveragePrice.replace(0,df.MMRCurrentAuctionAveragePrice.mean())\n",
    "\n",
    "df.VehBCost = df.VehBCost.replace(0,df.VehBCost.mean())\n",
    "\n",
    "df.drop(df[df.VehBCost <= 2000].index, inplace = True) \n",
    "\n",
    "df.drop(df[df.VehBCost >= 13000].index, inplace = True) \n",
    "\n",
    "df.drop(df[df.MMRAcquisitionAuctionAveragePrice <= 1500].index, inplace = True)\n",
    "\n",
    "df.drop(df[df.MMRAcquisitionAuctionAveragePrice <= 2000].index, inplace = True)\n",
    "\n",
    "df.drop(df[df.MMRCurrentAuctionAveragePrice <= 1800].index, inplace = True)\n",
    "\n",
    "df.drop(df[df.MMRCurrentAuctionAveragePrice >= 15000].index, inplace = True)\n",
    "\n",
    "df.Transmission = df.Transmission.str.upper()"
   ]
  },
  {
   "cell_type": "code",
   "execution_count": 0,
   "metadata": {
    "colab": {},
    "colab_type": "code",
    "id": "d7vQSgdt6Q-F"
   },
   "outputs": [],
   "source": [
    "df.to_csv(\"only_number_now.csv\")"
   ]
  },
  {
   "cell_type": "code",
   "execution_count": 93,
   "metadata": {
    "colab": {
     "base_uri": "https://localhost:8080/",
     "height": 406
    },
    "colab_type": "code",
    "executionInfo": {
     "elapsed": 765,
     "status": "ok",
     "timestamp": 1578505875797,
     "user": {
      "displayName": "Piyush Tada",
      "photoUrl": "https://lh3.googleusercontent.com/a-/AAuE7mDSlGQfVK839VHJWqRccouhYJGY13qFt84KUCH9Qno=s64",
      "userId": "12543700153384381749"
     },
     "user_tz": -60
    },
    "id": "h0lETmva6Q-I",
    "outputId": "757a17ae-efa3-46fc-e97e-99c837edaee9"
   },
   "outputs": [
    {
     "data": {
      "text/html": [
       "<div>\n",
       "<style scoped>\n",
       "    .dataframe tbody tr th:only-of-type {\n",
       "        vertical-align: middle;\n",
       "    }\n",
       "\n",
       "    .dataframe tbody tr th {\n",
       "        vertical-align: top;\n",
       "    }\n",
       "\n",
       "    .dataframe thead th {\n",
       "        text-align: right;\n",
       "    }\n",
       "</style>\n",
       "<table border=\"1\" class=\"dataframe\">\n",
       "  <thead>\n",
       "    <tr style=\"text-align: right;\">\n",
       "      <th></th>\n",
       "      <th>IsBadBuy</th>\n",
       "      <th>VehicleAge</th>\n",
       "      <th>Make</th>\n",
       "      <th>Transmission</th>\n",
       "      <th>VehOdo</th>\n",
       "      <th>Size</th>\n",
       "      <th>MMRAcquisitionAuctionAveragePrice</th>\n",
       "      <th>MMRCurrentAuctionAveragePrice</th>\n",
       "      <th>VehBCost</th>\n",
       "      <th>WarrantyCost</th>\n",
       "    </tr>\n",
       "  </thead>\n",
       "  <tbody>\n",
       "    <tr>\n",
       "      <th>count</th>\n",
       "      <td>56753.000000</td>\n",
       "      <td>56753.000000</td>\n",
       "      <td>56753</td>\n",
       "      <td>56753</td>\n",
       "      <td>56753.000000</td>\n",
       "      <td>56753</td>\n",
       "      <td>56753.000000</td>\n",
       "      <td>56753.000000</td>\n",
       "      <td>56753.000000</td>\n",
       "      <td>56753.000000</td>\n",
       "    </tr>\n",
       "    <tr>\n",
       "      <th>unique</th>\n",
       "      <td>NaN</td>\n",
       "      <td>NaN</td>\n",
       "      <td>31</td>\n",
       "      <td>2</td>\n",
       "      <td>NaN</td>\n",
       "      <td>12</td>\n",
       "      <td>NaN</td>\n",
       "      <td>NaN</td>\n",
       "      <td>NaN</td>\n",
       "      <td>NaN</td>\n",
       "    </tr>\n",
       "    <tr>\n",
       "      <th>top</th>\n",
       "      <td>NaN</td>\n",
       "      <td>NaN</td>\n",
       "      <td>CHEVROLET</td>\n",
       "      <td>AUTO</td>\n",
       "      <td>NaN</td>\n",
       "      <td>MEDIUM</td>\n",
       "      <td>NaN</td>\n",
       "      <td>NaN</td>\n",
       "      <td>NaN</td>\n",
       "      <td>NaN</td>\n",
       "    </tr>\n",
       "    <tr>\n",
       "      <th>freq</th>\n",
       "      <td>NaN</td>\n",
       "      <td>NaN</td>\n",
       "      <td>13580</td>\n",
       "      <td>54781</td>\n",
       "      <td>NaN</td>\n",
       "      <td>23984</td>\n",
       "      <td>NaN</td>\n",
       "      <td>NaN</td>\n",
       "      <td>NaN</td>\n",
       "      <td>NaN</td>\n",
       "    </tr>\n",
       "    <tr>\n",
       "      <th>mean</th>\n",
       "      <td>0.121315</td>\n",
       "      <td>4.145243</td>\n",
       "      <td>NaN</td>\n",
       "      <td>NaN</td>\n",
       "      <td>71449.964724</td>\n",
       "      <td>NaN</td>\n",
       "      <td>6223.016175</td>\n",
       "      <td>6199.423112</td>\n",
       "      <td>6749.401664</td>\n",
       "      <td>1272.407697</td>\n",
       "    </tr>\n",
       "    <tr>\n",
       "      <th>std</th>\n",
       "      <td>0.326496</td>\n",
       "      <td>1.681420</td>\n",
       "      <td>NaN</td>\n",
       "      <td>NaN</td>\n",
       "      <td>14536.883938</td>\n",
       "      <td>NaN</td>\n",
       "      <td>2303.769659</td>\n",
       "      <td>2306.334750</td>\n",
       "      <td>1714.741249</td>\n",
       "      <td>591.985963</td>\n",
       "    </tr>\n",
       "    <tr>\n",
       "      <th>min</th>\n",
       "      <td>0.000000</td>\n",
       "      <td>0.000000</td>\n",
       "      <td>NaN</td>\n",
       "      <td>NaN</td>\n",
       "      <td>5368.000000</td>\n",
       "      <td>NaN</td>\n",
       "      <td>2001.000000</td>\n",
       "      <td>1801.000000</td>\n",
       "      <td>2060.000000</td>\n",
       "      <td>462.000000</td>\n",
       "    </tr>\n",
       "    <tr>\n",
       "      <th>25%</th>\n",
       "      <td>0.000000</td>\n",
       "      <td>3.000000</td>\n",
       "      <td>NaN</td>\n",
       "      <td>NaN</td>\n",
       "      <td>61776.000000</td>\n",
       "      <td>NaN</td>\n",
       "      <td>4398.000000</td>\n",
       "      <td>4367.000000</td>\n",
       "      <td>5475.000000</td>\n",
       "      <td>837.000000</td>\n",
       "    </tr>\n",
       "    <tr>\n",
       "      <th>50%</th>\n",
       "      <td>0.000000</td>\n",
       "      <td>4.000000</td>\n",
       "      <td>NaN</td>\n",
       "      <td>NaN</td>\n",
       "      <td>73307.000000</td>\n",
       "      <td>NaN</td>\n",
       "      <td>6168.000000</td>\n",
       "      <td>6120.000000</td>\n",
       "      <td>6730.000000</td>\n",
       "      <td>1155.000000</td>\n",
       "    </tr>\n",
       "    <tr>\n",
       "      <th>75%</th>\n",
       "      <td>0.000000</td>\n",
       "      <td>5.000000</td>\n",
       "      <td>NaN</td>\n",
       "      <td>NaN</td>\n",
       "      <td>82366.000000</td>\n",
       "      <td>NaN</td>\n",
       "      <td>7788.000000</td>\n",
       "      <td>7757.000000</td>\n",
       "      <td>7900.000000</td>\n",
       "      <td>1623.000000</td>\n",
       "    </tr>\n",
       "    <tr>\n",
       "      <th>max</th>\n",
       "      <td>1.000000</td>\n",
       "      <td>9.000000</td>\n",
       "      <td>NaN</td>\n",
       "      <td>NaN</td>\n",
       "      <td>115717.000000</td>\n",
       "      <td>NaN</td>\n",
       "      <td>19250.000000</td>\n",
       "      <td>14995.000000</td>\n",
       "      <td>12590.000000</td>\n",
       "      <td>7498.000000</td>\n",
       "    </tr>\n",
       "  </tbody>\n",
       "</table>\n",
       "</div>"
      ],
      "text/plain": [
       "            IsBadBuy    VehicleAge  ...      VehBCost  WarrantyCost\n",
       "count   56753.000000  56753.000000  ...  56753.000000  56753.000000\n",
       "unique           NaN           NaN  ...           NaN           NaN\n",
       "top              NaN           NaN  ...           NaN           NaN\n",
       "freq             NaN           NaN  ...           NaN           NaN\n",
       "mean        0.121315      4.145243  ...   6749.401664   1272.407697\n",
       "std         0.326496      1.681420  ...   1714.741249    591.985963\n",
       "min         0.000000      0.000000  ...   2060.000000    462.000000\n",
       "25%         0.000000      3.000000  ...   5475.000000    837.000000\n",
       "50%         0.000000      4.000000  ...   6730.000000   1155.000000\n",
       "75%         0.000000      5.000000  ...   7900.000000   1623.000000\n",
       "max         1.000000      9.000000  ...  12590.000000   7498.000000\n",
       "\n",
       "[11 rows x 10 columns]"
      ]
     },
     "execution_count": 93,
     "metadata": {
      "tags": []
     },
     "output_type": "execute_result"
    }
   ],
   "source": [
    "df.describe(include='all')"
   ]
  },
  {
   "cell_type": "markdown",
   "metadata": {
    "colab_type": "text",
    "id": "xpNf9ryQ6Q-M"
   },
   "source": [
    "### Classification Preprocessing"
   ]
  },
  {
   "cell_type": "markdown",
   "metadata": {
    "colab_type": "text",
    "id": "lj4wWrfD6Q-N"
   },
   "source": [
    "Feature Reshaping"
   ]
  },
  {
   "cell_type": "code",
   "execution_count": 0,
   "metadata": {
    "colab": {},
    "colab_type": "code",
    "id": "sAWDJLz96Q-N"
   },
   "outputs": [],
   "source": [
    "from sklearn.preprocessing import LabelEncoder"
   ]
  },
  {
   "cell_type": "markdown",
   "metadata": {
    "colab_type": "text",
    "id": "0dvASsc46Q-Q"
   },
   "source": [
    "Now we will trasform the columns below into catogories \n",
    "\n",
    "Make Transmission Size"
   ]
  },
  {
   "cell_type": "code",
   "execution_count": 0,
   "metadata": {
    "colab": {},
    "colab_type": "code",
    "id": "I7-MQc1f6Q-R"
   },
   "outputs": [],
   "source": [
    "label_encoders = dict()\n",
    "column2encode = ['Make', 'Transmission','Size']"
   ]
  },
  {
   "cell_type": "code",
   "execution_count": 0,
   "metadata": {
    "colab": {},
    "colab_type": "code",
    "id": "hk_bVI7J6Q-T"
   },
   "outputs": [],
   "source": [
    "for col in column2encode:\n",
    "    le = LabelEncoder()\n",
    "    df.loc[:,col] = le.fit_transform(df[col])\n",
    "    label_encoders[col] = le"
   ]
  },
  {
   "cell_type": "code",
   "execution_count": 97,
   "metadata": {
    "colab": {
     "base_uri": "https://localhost:8080/",
     "height": 222
    },
    "colab_type": "code",
    "executionInfo": {
     "elapsed": 444,
     "status": "ok",
     "timestamp": 1578505883486,
     "user": {
      "displayName": "Piyush Tada",
      "photoUrl": "https://lh3.googleusercontent.com/a-/AAuE7mDSlGQfVK839VHJWqRccouhYJGY13qFt84KUCH9Qno=s64",
      "userId": "12543700153384381749"
     },
     "user_tz": -60
    },
    "id": "9vJMEk4V6Q-W",
    "outputId": "01410a26-04b2-4796-c904-852e0e6b56a2"
   },
   "outputs": [
    {
     "data": {
      "text/html": [
       "<div>\n",
       "<style scoped>\n",
       "    .dataframe tbody tr th:only-of-type {\n",
       "        vertical-align: middle;\n",
       "    }\n",
       "\n",
       "    .dataframe tbody tr th {\n",
       "        vertical-align: top;\n",
       "    }\n",
       "\n",
       "    .dataframe thead th {\n",
       "        text-align: right;\n",
       "    }\n",
       "</style>\n",
       "<table border=\"1\" class=\"dataframe\">\n",
       "  <thead>\n",
       "    <tr style=\"text-align: right;\">\n",
       "      <th></th>\n",
       "      <th>IsBadBuy</th>\n",
       "      <th>VehicleAge</th>\n",
       "      <th>Make</th>\n",
       "      <th>Transmission</th>\n",
       "      <th>VehOdo</th>\n",
       "      <th>Size</th>\n",
       "      <th>MMRAcquisitionAuctionAveragePrice</th>\n",
       "      <th>MMRCurrentAuctionAveragePrice</th>\n",
       "      <th>VehBCost</th>\n",
       "      <th>WarrantyCost</th>\n",
       "    </tr>\n",
       "  </thead>\n",
       "  <tbody>\n",
       "    <tr>\n",
       "      <th>0</th>\n",
       "      <td>1</td>\n",
       "      <td>2</td>\n",
       "      <td>13</td>\n",
       "      <td>0</td>\n",
       "      <td>61184</td>\n",
       "      <td>5</td>\n",
       "      <td>6796.0</td>\n",
       "      <td>6628.0</td>\n",
       "      <td>6100.0</td>\n",
       "      <td>533</td>\n",
       "    </tr>\n",
       "    <tr>\n",
       "      <th>1</th>\n",
       "      <td>0</td>\n",
       "      <td>3</td>\n",
       "      <td>5</td>\n",
       "      <td>0</td>\n",
       "      <td>92383</td>\n",
       "      <td>5</td>\n",
       "      <td>5480.0</td>\n",
       "      <td>5480.0</td>\n",
       "      <td>4000.0</td>\n",
       "      <td>1630</td>\n",
       "    </tr>\n",
       "    <tr>\n",
       "      <th>2</th>\n",
       "      <td>0</td>\n",
       "      <td>2</td>\n",
       "      <td>5</td>\n",
       "      <td>0</td>\n",
       "      <td>45965</td>\n",
       "      <td>5</td>\n",
       "      <td>8067.0</td>\n",
       "      <td>7497.0</td>\n",
       "      <td>7500.0</td>\n",
       "      <td>693</td>\n",
       "    </tr>\n",
       "    <tr>\n",
       "      <th>3</th>\n",
       "      <td>0</td>\n",
       "      <td>4</td>\n",
       "      <td>6</td>\n",
       "      <td>0</td>\n",
       "      <td>80169</td>\n",
       "      <td>11</td>\n",
       "      <td>4817.0</td>\n",
       "      <td>4817.0</td>\n",
       "      <td>4725.0</td>\n",
       "      <td>1633</td>\n",
       "    </tr>\n",
       "    <tr>\n",
       "      <th>4</th>\n",
       "      <td>0</td>\n",
       "      <td>4</td>\n",
       "      <td>4</td>\n",
       "      <td>0</td>\n",
       "      <td>77372</td>\n",
       "      <td>11</td>\n",
       "      <td>5430.0</td>\n",
       "      <td>5370.0</td>\n",
       "      <td>5670.0</td>\n",
       "      <td>1623</td>\n",
       "    </tr>\n",
       "  </tbody>\n",
       "</table>\n",
       "</div>"
      ],
      "text/plain": [
       "   IsBadBuy  VehicleAge  ...  VehBCost  WarrantyCost\n",
       "0         1           2  ...    6100.0           533\n",
       "1         0           3  ...    4000.0          1630\n",
       "2         0           2  ...    7500.0           693\n",
       "3         0           4  ...    4725.0          1633\n",
       "4         0           4  ...    5670.0          1623\n",
       "\n",
       "[5 rows x 10 columns]"
      ]
     },
     "execution_count": 97,
     "metadata": {
      "tags": []
     },
     "output_type": "execute_result"
    }
   ],
   "source": [
    "df.head()"
   ]
  },
  {
   "cell_type": "code",
   "execution_count": 98,
   "metadata": {
    "colab": {
     "base_uri": "https://localhost:8080/",
     "height": 277
    },
    "colab_type": "code",
    "executionInfo": {
     "elapsed": 524,
     "status": "ok",
     "timestamp": 1578505887868,
     "user": {
      "displayName": "Piyush Tada",
      "photoUrl": "https://lh3.googleusercontent.com/a-/AAuE7mDSlGQfVK839VHJWqRccouhYJGY13qFt84KUCH9Qno=s64",
      "userId": "12543700153384381749"
     },
     "user_tz": -60
    },
    "id": "vMGmNHjY6Q-Y",
    "outputId": "e71e3d17-3317-464a-fe91-5e09da8fe2f2"
   },
   "outputs": [
    {
     "name": "stdout",
     "output_type": "stream",
     "text": [
      "<class 'pandas.core.frame.DataFrame'>\n",
      "Int64Index: 56753 entries, 0 to 58384\n",
      "Data columns (total 10 columns):\n",
      "IsBadBuy                             56753 non-null int64\n",
      "VehicleAge                           56753 non-null int64\n",
      "Make                                 56753 non-null int64\n",
      "Transmission                         56753 non-null int64\n",
      "VehOdo                               56753 non-null int64\n",
      "Size                                 56753 non-null int64\n",
      "MMRAcquisitionAuctionAveragePrice    56753 non-null float64\n",
      "MMRCurrentAuctionAveragePrice        56753 non-null float64\n",
      "VehBCost                             56753 non-null float64\n",
      "WarrantyCost                         56753 non-null int64\n",
      "dtypes: float64(3), int64(7)\n",
      "memory usage: 4.8 MB\n"
     ]
    }
   ],
   "source": [
    "\n",
    "\n",
    "df.info()"
   ]
  },
  {
   "cell_type": "code",
   "execution_count": 99,
   "metadata": {
    "colab": {
     "base_uri": "https://localhost:8080/",
     "height": 314
    },
    "colab_type": "code",
    "executionInfo": {
     "elapsed": 497,
     "status": "ok",
     "timestamp": 1578505889061,
     "user": {
      "displayName": "Piyush Tada",
      "photoUrl": "https://lh3.googleusercontent.com/a-/AAuE7mDSlGQfVK839VHJWqRccouhYJGY13qFt84KUCH9Qno=s64",
      "userId": "12543700153384381749"
     },
     "user_tz": -60
    },
    "id": "FV9yrqDu6Q-a",
    "outputId": "99f51b60-a720-45e9-b4c1-73c00d882311"
   },
   "outputs": [
    {
     "data": {
      "text/html": [
       "<div>\n",
       "<style scoped>\n",
       "    .dataframe tbody tr th:only-of-type {\n",
       "        vertical-align: middle;\n",
       "    }\n",
       "\n",
       "    .dataframe tbody tr th {\n",
       "        vertical-align: top;\n",
       "    }\n",
       "\n",
       "    .dataframe thead th {\n",
       "        text-align: right;\n",
       "    }\n",
       "</style>\n",
       "<table border=\"1\" class=\"dataframe\">\n",
       "  <thead>\n",
       "    <tr style=\"text-align: right;\">\n",
       "      <th></th>\n",
       "      <th>IsBadBuy</th>\n",
       "      <th>VehicleAge</th>\n",
       "      <th>Make</th>\n",
       "      <th>Transmission</th>\n",
       "      <th>VehOdo</th>\n",
       "      <th>Size</th>\n",
       "      <th>MMRAcquisitionAuctionAveragePrice</th>\n",
       "      <th>MMRCurrentAuctionAveragePrice</th>\n",
       "      <th>VehBCost</th>\n",
       "      <th>WarrantyCost</th>\n",
       "    </tr>\n",
       "  </thead>\n",
       "  <tbody>\n",
       "    <tr>\n",
       "      <th>count</th>\n",
       "      <td>56753.000000</td>\n",
       "      <td>56753.000000</td>\n",
       "      <td>56753.000000</td>\n",
       "      <td>56753.000000</td>\n",
       "      <td>56753.000000</td>\n",
       "      <td>56753.000000</td>\n",
       "      <td>56753.000000</td>\n",
       "      <td>56753.000000</td>\n",
       "      <td>56753.000000</td>\n",
       "      <td>56753.000000</td>\n",
       "    </tr>\n",
       "    <tr>\n",
       "      <th>mean</th>\n",
       "      <td>0.121315</td>\n",
       "      <td>4.145243</td>\n",
       "      <td>8.430057</td>\n",
       "      <td>0.034747</td>\n",
       "      <td>71449.964724</td>\n",
       "      <td>4.806460</td>\n",
       "      <td>6223.016175</td>\n",
       "      <td>6199.423112</td>\n",
       "      <td>6749.401664</td>\n",
       "      <td>1272.407697</td>\n",
       "    </tr>\n",
       "    <tr>\n",
       "      <th>std</th>\n",
       "      <td>0.326496</td>\n",
       "      <td>1.681420</td>\n",
       "      <td>7.165837</td>\n",
       "      <td>0.183140</td>\n",
       "      <td>14536.883938</td>\n",
       "      <td>2.806174</td>\n",
       "      <td>2303.769659</td>\n",
       "      <td>2306.334750</td>\n",
       "      <td>1714.741249</td>\n",
       "      <td>591.985963</td>\n",
       "    </tr>\n",
       "    <tr>\n",
       "      <th>min</th>\n",
       "      <td>0.000000</td>\n",
       "      <td>0.000000</td>\n",
       "      <td>0.000000</td>\n",
       "      <td>0.000000</td>\n",
       "      <td>5368.000000</td>\n",
       "      <td>0.000000</td>\n",
       "      <td>2001.000000</td>\n",
       "      <td>1801.000000</td>\n",
       "      <td>2060.000000</td>\n",
       "      <td>462.000000</td>\n",
       "    </tr>\n",
       "    <tr>\n",
       "      <th>25%</th>\n",
       "      <td>0.000000</td>\n",
       "      <td>3.000000</td>\n",
       "      <td>4.000000</td>\n",
       "      <td>0.000000</td>\n",
       "      <td>61776.000000</td>\n",
       "      <td>3.000000</td>\n",
       "      <td>4398.000000</td>\n",
       "      <td>4367.000000</td>\n",
       "      <td>5475.000000</td>\n",
       "      <td>837.000000</td>\n",
       "    </tr>\n",
       "    <tr>\n",
       "      <th>50%</th>\n",
       "      <td>0.000000</td>\n",
       "      <td>4.000000</td>\n",
       "      <td>5.000000</td>\n",
       "      <td>0.000000</td>\n",
       "      <td>73307.000000</td>\n",
       "      <td>5.000000</td>\n",
       "      <td>6168.000000</td>\n",
       "      <td>6120.000000</td>\n",
       "      <td>6730.000000</td>\n",
       "      <td>1155.000000</td>\n",
       "    </tr>\n",
       "    <tr>\n",
       "      <th>75%</th>\n",
       "      <td>0.000000</td>\n",
       "      <td>5.000000</td>\n",
       "      <td>12.000000</td>\n",
       "      <td>0.000000</td>\n",
       "      <td>82366.000000</td>\n",
       "      <td>6.000000</td>\n",
       "      <td>7788.000000</td>\n",
       "      <td>7757.000000</td>\n",
       "      <td>7900.000000</td>\n",
       "      <td>1623.000000</td>\n",
       "    </tr>\n",
       "    <tr>\n",
       "      <th>max</th>\n",
       "      <td>1.000000</td>\n",
       "      <td>9.000000</td>\n",
       "      <td>30.000000</td>\n",
       "      <td>1.000000</td>\n",
       "      <td>115717.000000</td>\n",
       "      <td>11.000000</td>\n",
       "      <td>19250.000000</td>\n",
       "      <td>14995.000000</td>\n",
       "      <td>12590.000000</td>\n",
       "      <td>7498.000000</td>\n",
       "    </tr>\n",
       "  </tbody>\n",
       "</table>\n",
       "</div>"
      ],
      "text/plain": [
       "           IsBadBuy    VehicleAge  ...      VehBCost  WarrantyCost\n",
       "count  56753.000000  56753.000000  ...  56753.000000  56753.000000\n",
       "mean       0.121315      4.145243  ...   6749.401664   1272.407697\n",
       "std        0.326496      1.681420  ...   1714.741249    591.985963\n",
       "min        0.000000      0.000000  ...   2060.000000    462.000000\n",
       "25%        0.000000      3.000000  ...   5475.000000    837.000000\n",
       "50%        0.000000      4.000000  ...   6730.000000   1155.000000\n",
       "75%        0.000000      5.000000  ...   7900.000000   1623.000000\n",
       "max        1.000000      9.000000  ...  12590.000000   7498.000000\n",
       "\n",
       "[8 rows x 10 columns]"
      ]
     },
     "execution_count": 99,
     "metadata": {
      "tags": []
     },
     "output_type": "execute_result"
    }
   ],
   "source": [
    "df.describe(include=\"all\")"
   ]
  },
  {
   "cell_type": "markdown",
   "metadata": {
    "colab_type": "text",
    "id": "GKTh9bdz6Q-d"
   },
   "source": [
    "Train/Test partitioning"
   ]
  },
  {
   "cell_type": "code",
   "execution_count": 0,
   "metadata": {
    "colab": {},
    "colab_type": "code",
    "id": "kumBNz1_6Q-d"
   },
   "outputs": [],
   "source": [
    "from sklearn.model_selection import train_test_split"
   ]
  },
  {
   "cell_type": "code",
   "execution_count": 0,
   "metadata": {
    "colab": {},
    "colab_type": "code",
    "id": "Oo5ID1AY6Q-i"
   },
   "outputs": [],
   "source": [
    "attributes = [col for col in df.columns if col != 'IsBadBuy']\n",
    "X = df[attributes].values\n",
    "y = df['IsBadBuy']\n",
    "\n",
    "X_train, X_test, y_train, y_test = train_test_split(X, y, test_size=0.3, random_state=1, stratify=y)"
   ]
  },
  {
   "cell_type": "markdown",
   "metadata": {
    "colab_type": "text",
    "id": "kwBYBy3R6Q-k"
   },
   "source": [
    "### Parameter Tuning"
   ]
  },
  {
   "cell_type": "code",
   "execution_count": 0,
   "metadata": {
    "colab": {},
    "colab_type": "code",
    "id": "JVnq1vEA6Q-l"
   },
   "outputs": [],
   "source": [
    "from sklearn.tree import DecisionTreeClassifier\n",
    "from sklearn.model_selection import RandomizedSearchCV"
   ]
  },
  {
   "cell_type": "code",
   "execution_count": 0,
   "metadata": {
    "colab": {},
    "colab_type": "code",
    "id": "tBCpn_p06Q-n"
   },
   "outputs": [],
   "source": [
    "def report(results, n_top=3):\n",
    "    for i in range(1, n_top + 1):\n",
    "        candidates = np.flatnonzero(results['rank_test_score'] == i)\n",
    "        for candidate in candidates:\n",
    "            print(\"Model with rank: {0}\".format(i))\n",
    "            print(\"Mean validation score: {0:.3f} (std: {1:.3f})\".format(\n",
    "                  results['mean_test_score'][candidate],\n",
    "                  results['std_test_score'][candidate]))\n",
    "            print(\"Parameters: {0}\".format(results['params'][candidate]))\n",
    "            print(\"\")"
   ]
  },
  {
   "cell_type": "code",
   "execution_count": 104,
   "metadata": {
    "colab": {
     "base_uri": "https://localhost:8080/",
     "height": 1000
    },
    "colab_type": "code",
    "executionInfo": {
     "elapsed": 64811,
     "status": "ok",
     "timestamp": 1578505967069,
     "user": {
      "displayName": "Piyush Tada",
      "photoUrl": "https://lh3.googleusercontent.com/a-/AAuE7mDSlGQfVK839VHJWqRccouhYJGY13qFt84KUCH9Qno=s64",
      "userId": "12543700153384381749"
     },
     "user_tz": -60
    },
    "id": "OQQ7hB2B6Q-s",
    "outputId": "8bcc0f57-cc50-41d7-93bb-b1181178fb3f"
   },
   "outputs": [
    {
     "name": "stderr",
     "output_type": "stream",
     "text": [
      "/usr/local/lib/python3.6/dist-packages/sklearn/model_selection/_split.py:1978: FutureWarning: The default value of cv will change from 3 to 5 in version 0.22. Specify it explicitly to silence this warning.\n",
      "  warnings.warn(CV_WARNING, FutureWarning)\n"
     ]
    },
    {
     "name": "stdout",
     "output_type": "stream",
     "text": [
      "Model with rank: 1\n",
      "Mean validation score: 0.879 (std: 0.000)\n",
      "Parameters: {'min_samples_split': 30, 'min_samples_leaf': 50, 'max_depth': 6}\n",
      "\n",
      "Model with rank: 2\n",
      "Mean validation score: 0.879 (std: 0.000)\n",
      "Parameters: {'min_samples_split': 20, 'min_samples_leaf': 100, 'max_depth': 2}\n",
      "\n",
      "Model with rank: 2\n",
      "Mean validation score: 0.879 (std: 0.000)\n",
      "Parameters: {'min_samples_split': 30, 'min_samples_leaf': 100, 'max_depth': 3}\n",
      "\n",
      "Model with rank: 2\n",
      "Mean validation score: 0.879 (std: 0.000)\n",
      "Parameters: {'min_samples_split': 100, 'min_samples_leaf': 100, 'max_depth': 13}\n",
      "\n",
      "Model with rank: 2\n",
      "Mean validation score: 0.879 (std: 0.000)\n",
      "Parameters: {'min_samples_split': 100, 'min_samples_leaf': 100, 'max_depth': 8}\n",
      "\n",
      "Model with rank: 2\n",
      "Mean validation score: 0.879 (std: 0.000)\n",
      "Parameters: {'min_samples_split': 5, 'min_samples_leaf': 100, 'max_depth': 15}\n",
      "\n",
      "Model with rank: 2\n",
      "Mean validation score: 0.879 (std: 0.000)\n",
      "Parameters: {'min_samples_split': 2, 'min_samples_leaf': 20, 'max_depth': 2}\n",
      "\n",
      "Model with rank: 2\n",
      "Mean validation score: 0.879 (std: 0.000)\n",
      "Parameters: {'min_samples_split': 2, 'min_samples_leaf': 100, 'max_depth': 15}\n",
      "\n",
      "Model with rank: 2\n",
      "Mean validation score: 0.879 (std: 0.000)\n",
      "Parameters: {'min_samples_split': 20, 'min_samples_leaf': 100, 'max_depth': 12}\n",
      "\n",
      "Model with rank: 2\n",
      "Mean validation score: 0.879 (std: 0.000)\n",
      "Parameters: {'min_samples_split': 50, 'min_samples_leaf': 10, 'max_depth': 4}\n",
      "\n",
      "Model with rank: 2\n",
      "Mean validation score: 0.879 (std: 0.000)\n",
      "Parameters: {'min_samples_split': 50, 'min_samples_leaf': 5, 'max_depth': 2}\n",
      "\n",
      "Model with rank: 2\n",
      "Mean validation score: 0.879 (std: 0.000)\n",
      "Parameters: {'min_samples_split': 10, 'min_samples_leaf': 100, 'max_depth': 15}\n",
      "\n",
      "Model with rank: 2\n",
      "Mean validation score: 0.879 (std: 0.000)\n",
      "Parameters: {'min_samples_split': 20, 'min_samples_leaf': 100, 'max_depth': 14}\n",
      "\n",
      "Model with rank: 2\n",
      "Mean validation score: 0.879 (std: 0.000)\n",
      "Parameters: {'min_samples_split': 20, 'min_samples_leaf': 30, 'max_depth': 4}\n",
      "\n",
      "Model with rank: 2\n",
      "Mean validation score: 0.879 (std: 0.000)\n",
      "Parameters: {'min_samples_split': 10, 'min_samples_leaf': 30, 'max_depth': 2}\n",
      "\n",
      "Model with rank: 2\n",
      "Mean validation score: 0.879 (std: 0.000)\n",
      "Parameters: {'min_samples_split': 50, 'min_samples_leaf': 50, 'max_depth': 2}\n",
      "\n",
      "Model with rank: 2\n",
      "Mean validation score: 0.879 (std: 0.000)\n",
      "Parameters: {'min_samples_split': 2, 'min_samples_leaf': 100, 'max_depth': 6}\n",
      "\n",
      "Model with rank: 2\n",
      "Mean validation score: 0.879 (std: 0.000)\n",
      "Parameters: {'min_samples_split': 10, 'min_samples_leaf': 50, 'max_depth': 3}\n",
      "\n",
      "Model with rank: 2\n",
      "Mean validation score: 0.879 (std: 0.000)\n",
      "Parameters: {'min_samples_split': 10, 'min_samples_leaf': 1, 'max_depth': 3}\n",
      "\n",
      "Model with rank: 2\n",
      "Mean validation score: 0.879 (std: 0.000)\n",
      "Parameters: {'min_samples_split': 50, 'min_samples_leaf': 100, 'max_depth': 9}\n",
      "\n",
      "Model with rank: 2\n",
      "Mean validation score: 0.879 (std: 0.000)\n",
      "Parameters: {'min_samples_split': 30, 'min_samples_leaf': 100, 'max_depth': 13}\n",
      "\n",
      "Model with rank: 2\n",
      "Mean validation score: 0.879 (std: 0.000)\n",
      "Parameters: {'min_samples_split': 20, 'min_samples_leaf': 10, 'max_depth': 2}\n",
      "\n",
      "Model with rank: 2\n",
      "Mean validation score: 0.879 (std: 0.000)\n",
      "Parameters: {'min_samples_split': 50, 'min_samples_leaf': 20, 'max_depth': 4}\n",
      "\n",
      "Model with rank: 2\n",
      "Mean validation score: 0.879 (std: 0.000)\n",
      "Parameters: {'min_samples_split': 30, 'min_samples_leaf': 100, 'max_depth': 14}\n",
      "\n",
      "Model with rank: 2\n",
      "Mean validation score: 0.879 (std: 0.000)\n",
      "Parameters: {'min_samples_split': 100, 'min_samples_leaf': 100, 'max_depth': 5}\n",
      "\n"
     ]
    }
   ],
   "source": [
    "param_list = {'max_depth': [None] + list(np.arange(2, 20)),\n",
    "              'min_samples_split': [2, 5, 10, 20, 30, 50, 100],\n",
    "              'min_samples_leaf': [1, 5, 10, 20, 30, 50, 100],\n",
    "             }\n",
    "\n",
    "clf = DecisionTreeClassifier(criterion='gini', max_depth=None, min_samples_split=2, min_samples_leaf=1)\n",
    "\n",
    "random_search = RandomizedSearchCV(clf, param_distributions=param_list, n_iter=100)\n",
    "random_search.fit(X, y)\n",
    "report(random_search.cv_results_, n_top=3)"
   ]
  },
  {
   "cell_type": "markdown",
   "metadata": {
    "colab_type": "text",
    "id": "vR_dB4bx6Q-y"
   },
   "source": [
    "### Perform Clustering"
   ]
  },
  {
   "cell_type": "code",
   "execution_count": 0,
   "metadata": {
    "colab": {},
    "colab_type": "code",
    "id": "-O5Nj-476Q-z"
   },
   "outputs": [],
   "source": [
    "clf = DecisionTreeClassifier(criterion='gini', max_depth=6, min_samples_split=2, min_samples_leaf=5)\n",
    "clf = clf.fit(X_train, y_train)"
   ]
  },
  {
   "cell_type": "code",
   "execution_count": 0,
   "metadata": {
    "colab": {},
    "colab_type": "code",
    "id": "9LijBsP86Q-2"
   },
   "outputs": [],
   "source": [
    "y_pred = clf.predict(X_test)\n",
    "y_pred_tr = clf.predict(X_train)"
   ]
  },
  {
   "cell_type": "markdown",
   "metadata": {
    "colab_type": "text",
    "id": "90HpjxAI6Q-4"
   },
   "source": [
    "### Analyze the classification results"
   ]
  },
  {
   "cell_type": "markdown",
   "metadata": {
    "colab_type": "text",
    "id": "VdQvJLO96Q-4"
   },
   "source": [
    "**Features** Importance"
   ]
  },
  {
   "cell_type": "code",
   "execution_count": 64,
   "metadata": {
    "colab": {
     "base_uri": "https://localhost:8080/",
     "height": 173
    },
    "colab_type": "code",
    "executionInfo": {
     "elapsed": 542,
     "status": "ok",
     "timestamp": 1578496834618,
     "user": {
      "displayName": "Piyush Tada",
      "photoUrl": "https://lh3.googleusercontent.com/a-/AAuE7mDSlGQfVK839VHJWqRccouhYJGY13qFt84KUCH9Qno=s64",
      "userId": "12543700153384381749"
     },
     "user_tz": -60
    },
    "id": "Thymp7ux6Q-5",
    "outputId": "104ad6fb-0bd8-408c-c165-04329a913c75"
   },
   "outputs": [
    {
     "name": "stdout",
     "output_type": "stream",
     "text": [
      "VehicleAge 0.4725589745866476\n",
      "Make 0.050835530463015095\n",
      "Transmission 0.0\n",
      "VehOdo 0.09111590036074954\n",
      "Size 0.003651394837360154\n",
      "MMRAcquisitionAuctionAveragePrice 0.05580809881525737\n",
      "MMRCurrentAuctionAveragePrice 0.05701424068699304\n",
      "VehBCost 0.2288500566167199\n",
      "WarrantyCost 0.040165803633257384\n"
     ]
    }
   ],
   "source": [
    "for col, imp in zip(attributes, clf.feature_importances_):\n",
    "    print(col, imp)"
   ]
  },
  {
   "cell_type": "markdown",
   "metadata": {
    "colab_type": "text",
    "id": "RU9qimSK6Q-8"
   },
   "source": [
    "Visualize the decision tree"
   ]
  },
  {
   "cell_type": "code",
   "execution_count": 0,
   "metadata": {
    "colab": {},
    "colab_type": "code",
    "id": "tm_YgCha6Q-9"
   },
   "outputs": [],
   "source": [
    "import pydotplus\n",
    "from sklearn import tree\n",
    "from IPython.display import Image"
   ]
  },
  {
   "cell_type": "code",
   "execution_count": 66,
   "metadata": {
    "colab": {
     "base_uri": "https://localhost:8080/",
     "height": 35
    },
    "colab_type": "code",
    "executionInfo": {
     "elapsed": 857,
     "status": "ok",
     "timestamp": 1578496838185,
     "user": {
      "displayName": "Piyush Tada",
      "photoUrl": "https://lh3.googleusercontent.com/a-/AAuE7mDSlGQfVK839VHJWqRccouhYJGY13qFt84KUCH9Qno=s64",
      "userId": "12543700153384381749"
     },
     "user_tz": -60
    },
    "id": "poBuA_mj6Q--",
    "outputId": "6dab3126-82cf-418f-ad36-c67554796ac4"
   },
   "outputs": [
    {
     "data": {
      "text/plain": [
       "pydotplus.graphviz.Dot"
      ]
     },
     "execution_count": 66,
     "metadata": {
      "tags": []
     },
     "output_type": "execute_result"
    }
   ],
   "source": [
    "dot_data = tree.export_graphviz(clf, out_file=None,\n",
    "                                feature_names=attributes,\n",
    "                                class_names=['Good' if x == 0 else 'Not Good' for x in clf.classes_],  \n",
    "                                filled=True, rounded=True,  \n",
    "                                special_characters=True,\n",
    "                                max_depth=3)  \n",
    "graph = pydotplus.graph_from_dot_data(dot_data)  \n",
    "#print(graph.)\n",
    "type(graph)"
   ]
  },
  {
   "cell_type": "markdown",
   "metadata": {
    "colab_type": "text",
    "id": "43uyAfOz6Q_A"
   },
   "source": [
    "conda install python-graphviz\n",
    "\n",
    "So that it install all the dependecies and make all the connections needed for the package to work."
   ]
  },
  {
   "cell_type": "code",
   "execution_count": 0,
   "metadata": {
    "colab": {},
    "colab_type": "code",
    "id": "9IQXuZfIyJXl"
   },
   "outputs": [],
   "source": [
    "import collections\n",
    "\n",
    "colors = ('#FFECBF', '#789CFF')\n",
    "edges = collections.defaultdict(list)\n",
    "\n",
    "for edge in graph.get_edge_list():\n",
    "    edges[edge.get_source()].append(int(edge.get_destination()))\n",
    "\n",
    "for edge in edges:\n",
    "    edges[edge].sort()    \n",
    "    for i in range(2):\n",
    "        dest = graph.get_node(str(edges[edge][i]))[0]\n",
    "        dest.set_fillcolor(colors[i])\n"
   ]
  },
  {
   "cell_type": "code",
   "execution_count": 82,
   "metadata": {
    "colab": {
     "base_uri": "https://localhost:8080/",
     "height": 730
    },
    "colab_type": "code",
    "executionInfo": {
     "elapsed": 939,
     "status": "ok",
     "timestamp": 1578497970426,
     "user": {
      "displayName": "Piyush Tada",
      "photoUrl": "https://lh3.googleusercontent.com/a-/AAuE7mDSlGQfVK839VHJWqRccouhYJGY13qFt84KUCH9Qno=s64",
      "userId": "12543700153384381749"
     },
     "user_tz": -60
    },
    "id": "Dgq1jehX6Q_B",
    "outputId": "c7a7ff1c-711e-4a80-f7fc-e09749214fa0"
   },
   "outputs": [
    {
     "data": {
      "image/png": "[encoded data removed]",
      "text/plain": [
       "<IPython.core.display.Image object>"
      ]
     },
     "execution_count": 82,
     "metadata": {
      "tags": []
     },
     "output_type": "execute_result"
    }
   ],
   "source": [
    "Image(graph.create_png())"
   ]
  },
  {
   "cell_type": "markdown",
   "metadata": {
    "colab_type": "text",
    "id": "Nd_Qdohl6Q_E"
   },
   "source": [
    "### Analyze the classification performance"
   ]
  },
  {
   "cell_type": "code",
   "execution_count": 0,
   "metadata": {
    "colab": {},
    "colab_type": "code",
    "id": "C49RWajS6Q_F"
   },
   "outputs": [],
   "source": [
    "from sklearn.metrics import confusion_matrix\n",
    "from sklearn.metrics import accuracy_score, f1_score, classification_report\n",
    "from sklearn.metrics import roc_curve, auc, roc_auc_score"
   ]
  },
  {
   "cell_type": "markdown",
   "metadata": {
    "colab_type": "text",
    "id": "6CfFRMQ46Q_H"
   },
   "source": [
    "Evaluate the performance"
   ]
  },
  {
   "cell_type": "code",
   "execution_count": 106,
   "metadata": {
    "colab": {
     "base_uri": "https://localhost:8080/",
     "height": 295
    },
    "colab_type": "code",
    "executionInfo": {
     "elapsed": 541,
     "status": "ok",
     "timestamp": 1578507821624,
     "user": {
      "displayName": "Piyush Tada",
      "photoUrl": "https://lh3.googleusercontent.com/a-/AAuE7mDSlGQfVK839VHJWqRccouhYJGY13qFt84KUCH9Qno=s64",
      "userId": "12543700153384381749"
     },
     "user_tz": -60
    },
    "id": "Hs1GTYWF6Q_I",
    "outputId": "94075bfa-7208-4575-9f90-2813ba5977c4"
   },
   "outputs": [
    {
     "name": "stdout",
     "output_type": "stream",
     "text": [
      "Train Accuracy 0.8795026052810431\n",
      "Train F1-score [0.93581647 0.01724492]\n",
      "\n",
      "Test Accuracy 0.8780101021966404\n",
      "Test F1-score [0.93502268 0.00479157]\n",
      "              precision    recall  f1-score   support\n",
      "\n",
      "           0       0.88      1.00      0.94     14960\n",
      "           1       0.24      0.00      0.00      2066\n",
      "\n",
      "    accuracy                           0.88     17026\n",
      "   macro avg       0.56      0.50      0.47     17026\n",
      "weighted avg       0.80      0.88      0.82     17026\n",
      "\n"
     ]
    },
    {
     "data": {
      "text/plain": [
       "array([[14944,    16],\n",
       "       [ 2061,     5]])"
      ]
     },
     "execution_count": 106,
     "metadata": {
      "tags": []
     },
     "output_type": "execute_result"
    }
   ],
   "source": [
    "print('Train Accuracy %s' % accuracy_score(y_train, y_pred_tr))\n",
    "print('Train F1-score %s' % f1_score(y_train, y_pred_tr, average=None))\n",
    "print()\n",
    "\n",
    "print('Test Accuracy %s' % accuracy_score(y_test, y_pred))\n",
    "print('Test F1-score %s' % f1_score(y_test, y_pred, average=None))\n",
    "print(classification_report(y_test, y_pred))\n",
    "confusion_matrix(y_test, y_pred)"
   ]
  },
  {
   "cell_type": "code",
   "execution_count": 120,
   "metadata": {
    "colab": {
     "base_uri": "https://localhost:8080/",
     "height": 52
    },
    "colab_type": "code",
    "executionInfo": {
     "elapsed": 458,
     "status": "ok",
     "timestamp": 1578509600053,
     "user": {
      "displayName": "Piyush Tada",
      "photoUrl": "https://lh3.googleusercontent.com/a-/AAuE7mDSlGQfVK839VHJWqRccouhYJGY13qFt84KUCH9Qno=s64",
      "userId": "12543700153384381749"
     },
     "user_tz": -60
    },
    "id": "uKVcUEbI6Q_L",
    "outputId": "0acd100a-03c1-41e0-c426-8a0e8a9664d4"
   },
   "outputs": [
    {
     "name": "stdout",
     "output_type": "stream",
     "text": [
      "0.500675308405506\n",
      "0.500675308405506\n"
     ]
    }
   ],
   "source": [
    "fpr, tpr, thresholds = roc_curve(y_test, y_pred)\n",
    "roc_auc = auc(fpr, tpr)\n",
    "print(roc_auc)\n",
    "\n",
    "roc_auc = roc_auc_score(y_test, y_pred, average=None)\n",
    "print(roc_auc)"
   ]
  },
  {
   "cell_type": "code",
   "execution_count": 108,
   "metadata": {
    "colab": {
     "base_uri": "https://localhost:8080/",
     "height": 353
    },
    "colab_type": "code",
    "executionInfo": {
     "elapsed": 1261,
     "status": "ok",
     "timestamp": 1578507828100,
     "user": {
      "displayName": "Piyush Tada",
      "photoUrl": "https://lh3.googleusercontent.com/a-/AAuE7mDSlGQfVK839VHJWqRccouhYJGY13qFt84KUCH9Qno=s64",
      "userId": "12543700153384381749"
     },
     "user_tz": -60
    },
    "id": "9fDDfgwz6Q_N",
    "outputId": "7632cbea-8e11-4380-9ff9-9f76c4d67c90"
   },
   "outputs": [
    {
     "data": {
      "image/png": "[encoded data removed]",
      "text/plain": [
       "<Figure size 576x360 with 1 Axes>"
      ]
     },
     "metadata": {
      "tags": []
     },
     "output_type": "display_data"
    }
   ],
   "source": [
    "plt.figure(figsize=(8, 5))\n",
    "plt.plot(fpr, tpr, label='ROC curve (area = %0.2f)' % (roc_auc))\n",
    "    \n",
    "plt.plot([0, 1], [0, 1], 'k--')\n",
    "plt.xlim([0.0, 1.0])\n",
    "plt.ylim([0.0, 1.05])\n",
    "plt.xlabel('False Positive Rate', fontsize=20)\n",
    "plt.ylabel('True Positive Rate', fontsize=20) \n",
    "plt.tick_params(axis='both', which='major', labelsize=22)\n",
    "plt.legend(loc=\"lower right\", fontsize=14, frameon=False)\n",
    "plt.show()"
   ]
  },
  {
   "cell_type": "markdown",
   "metadata": {
    "colab_type": "text",
    "id": "uPvPPCNO6Q_P"
   },
   "source": [
    "Cross Validation"
   ]
  },
  {
   "cell_type": "code",
   "execution_count": 0,
   "metadata": {
    "colab": {},
    "colab_type": "code",
    "id": "453MA59O6Q_Q"
   },
   "outputs": [],
   "source": [
    "from sklearn.model_selection import cross_val_score"
   ]
  },
  {
   "cell_type": "code",
   "execution_count": 110,
   "metadata": {
    "colab": {
     "base_uri": "https://localhost:8080/",
     "height": 52
    },
    "colab_type": "code",
    "executionInfo": {
     "elapsed": 12496,
     "status": "ok",
     "timestamp": 1578507844190,
     "user": {
      "displayName": "Piyush Tada",
      "photoUrl": "https://lh3.googleusercontent.com/a-/AAuE7mDSlGQfVK839VHJWqRccouhYJGY13qFt84KUCH9Qno=s64",
      "userId": "12543700153384381749"
     },
     "user_tz": -60
    },
    "id": "WqHx-Qyx6Q_T",
    "outputId": "79afb706-97a7-494c-a482-9977f1454865"
   },
   "outputs": [
    {
     "name": "stdout",
     "output_type": "stream",
     "text": [
      "Accuracy: 0.7890 (+/- 0.01)\n",
      "F1-score: 0.5294 (+/- 0.01)\n"
     ]
    }
   ],
   "source": [
    "scores = cross_val_score(clf, X, y, cv=10)\n",
    "print('Accuracy: %0.4f (+/- %0.2f)' % (scores.mean(), scores.std() * 2))\n",
    "\n",
    "scores = cross_val_score(clf, X, y, cv=10, scoring='f1_macro')\n",
    "print('F1-score: %0.4f (+/- %0.2f)' % (scores.mean(), scores.std() * 2))"
   ]
  },
  {
   "cell_type": "markdown",
   "metadata": {
    "colab_type": "text",
    "id": "pIkKiwsE6Q_V"
   },
   "source": [
    "### Can we improve the performance using another classifier?"
   ]
  },
  {
   "cell_type": "code",
   "execution_count": 0,
   "metadata": {
    "colab": {},
    "colab_type": "code",
    "id": "w8Xbn0aD6Q_W"
   },
   "outputs": [],
   "source": [
    "from sklearn.ensemble import RandomForestClassifier"
   ]
  },
  {
   "cell_type": "code",
   "execution_count": 39,
   "metadata": {
    "colab": {
     "base_uri": "https://localhost:8080/",
     "height": 280
    },
    "colab_type": "code",
    "executionInfo": {
     "elapsed": 2198206,
     "status": "ok",
     "timestamp": 1578485869072,
     "user": {
      "displayName": "Piyush Tada",
      "photoUrl": "https://lh3.googleusercontent.com/a-/AAuE7mDSlGQfVK839VHJWqRccouhYJGY13qFt84KUCH9Qno=s64",
      "userId": "12543700153384381749"
     },
     "user_tz": -60
    },
    "id": "qet2zfgo6Q_Z",
    "outputId": "552bf98a-62ac-4e67-dd09-96a7263dd7c7"
   },
   "outputs": [
    {
     "name": "stderr",
     "output_type": "stream",
     "text": [
      "/usr/local/lib/python3.6/dist-packages/sklearn/model_selection/_split.py:1978: FutureWarning: The default value of cv will change from 3 to 5 in version 0.22. Specify it explicitly to silence this warning.\n",
      "  warnings.warn(CV_WARNING, FutureWarning)\n"
     ]
    },
    {
     "name": "stdout",
     "output_type": "stream",
     "text": [
      "Model with rank: 1\n",
      "Mean validation score: 0.879 (std: 0.000)\n",
      "Parameters: {'min_samples_split': 50, 'min_samples_leaf': 1, 'max_depth': 30, 'criterion': 'entropy'}\n",
      "\n",
      "Model with rank: 1\n",
      "Mean validation score: 0.879 (std: 0.000)\n",
      "Parameters: {'min_samples_split': 100, 'min_samples_leaf': 20, 'max_depth': 24, 'criterion': 'entropy'}\n",
      "\n",
      "Model with rank: 1\n",
      "Mean validation score: 0.879 (std: 0.000)\n",
      "Parameters: {'min_samples_split': 15, 'min_samples_leaf': 15, 'max_depth': 33, 'criterion': 'entropy'}\n",
      "\n"
     ]
    }
   ],
   "source": [
    "param_list = {'max_depth': [None] + list(np.arange(2, 50)),\n",
    "              'min_samples_split': [2, 5, 10, 15, 20, 30, 50, 100, 150],\n",
    "              'min_samples_leaf': [1, 5, 10, 15, 20, 30, 50, 100, 150],\n",
    "              'criterion': ['gini', 'entropy'],\n",
    "             }\n",
    "\n",
    "clf = RandomForestClassifier(n_estimators=100, criterion='gini', max_depth=None, \n",
    "                             min_samples_split=2, min_samples_leaf=1, class_weight=None)\n",
    "\n",
    "random_search = RandomizedSearchCV(clf, param_distributions=param_list, n_iter=100)\n",
    "random_search.fit(X, y)\n",
    "report(random_search.cv_results_, n_top=3)"
   ]
  },
  {
   "cell_type": "code",
   "execution_count": 0,
   "metadata": {
    "colab": {},
    "colab_type": "code",
    "id": "J2oM4jrr6Q_c"
   },
   "outputs": [],
   "source": [
    "clf = random_search.best_estimator_\n",
    "\n",
    "y_pred = clf.predict(X_test)\n",
    "y_pred_tr = clf.predict(X_train)"
   ]
  },
  {
   "cell_type": "code",
   "execution_count": 0,
   "metadata": {
    "colab": {},
    "colab_type": "code",
    "id": "ZgU5x9Eb6Q_e",
    "outputId": "b98610f6-7335-4ac7-8716-f36095507118"
   },
   "outputs": [
    {
     "name": "stdout",
     "output_type": "stream",
     "text": [
      "Train Accuracy 0.8787474513555013\n",
      "Train F1-score [0.93545578 0.00124404]\n",
      "\n",
      "Test Accuracy 0.8788323740162105\n",
      "Test F1-score [0.93549698 0.00289995]\n",
      "              precision    recall  f1-score   support\n",
      "\n",
      "           0       0.88      1.00      0.94     14960\n",
      "           1       1.00      0.00      0.00      2066\n",
      "\n",
      "    accuracy                           0.88     17026\n",
      "   macro avg       0.94      0.50      0.47     17026\n",
      "weighted avg       0.89      0.88      0.82     17026\n",
      "\n"
     ]
    },
    {
     "data": {
      "text/plain": [
       "array([[14960,     0],\n",
       "       [ 2063,     3]])"
      ]
     },
     "execution_count": 81,
     "metadata": {
      "tags": []
     },
     "output_type": "execute_result"
    }
   ],
   "source": [
    "print('Train Accuracy %s' % accuracy_score(y_train, y_pred_tr))\n",
    "print('Train F1-score %s' % f1_score(y_train, y_pred_tr, average=None))\n",
    "print()\n",
    "\n",
    "print('Test Accuracy %s' % accuracy_score(y_test, y_pred))\n",
    "print('Test F1-score %s' % f1_score(y_test, y_pred, average=None))\n",
    "print(classification_report(y_test, y_pred))\n",
    "confusion_matrix(y_test, y_pred)"
   ]
  },
  {
   "cell_type": "code",
   "execution_count": 116,
   "metadata": {
    "colab": {
     "base_uri": "https://localhost:8080/",
     "height": 313
    },
    "colab_type": "code",
    "executionInfo": {
     "elapsed": 611,
     "status": "ok",
     "timestamp": 1578508103140,
     "user": {
      "displayName": "Piyush Tada",
      "photoUrl": "https://lh3.googleusercontent.com/a-/AAuE7mDSlGQfVK839VHJWqRccouhYJGY13qFt84KUCH9Qno=s64",
      "userId": "12543700153384381749"
     },
     "user_tz": -60
    },
    "id": "Ij_txU-iaWLK",
    "outputId": "edadc678-bc87-4b64-ceee-36de50eb7a73"
   },
   "outputs": [
    {
     "name": "stdout",
     "output_type": "stream",
     "text": [
      "0.500675308405506\n"
     ]
    },
    {
     "data": {
      "image/png": "[encoded data removed]",
      "text/plain": [
       "<Figure size 432x288 with 1 Axes>"
      ]
     },
     "metadata": {
      "tags": []
     },
     "output_type": "display_data"
    }
   ],
   "source": [
    "import matplotlib.pyplot as plt\n",
    "from sklearn.metrics import roc_curve, auc, roc_auc_score\n",
    "fpr = dict()\n",
    "tpr = dict()\n",
    "roc_auc = dict()\n",
    "for i in range(2):\n",
    "    fpr[i], tpr[i], _ = roc_curve(y_test, y_pred)\n",
    "    roc_auc[i] = auc(fpr[i], tpr[i])\n",
    "\n",
    "print( roc_auc_score(y_test, y_pred))\n",
    "plt.figure()\n",
    "plt.plot(fpr[1], tpr[1])\n",
    "plt.plot([0, 1], [0, 1], 'k--')  # random predictions curve\n",
    "plt.xlim([0.0, 1.0])\n",
    "plt.ylim([0.0, 1.05])\n",
    "plt.xlabel('False Positive Rate')\n",
    "plt.ylabel('True Positive Rate')\n",
    "plt.title('Receiver operating characteristic')\n",
    "plt.show()"
   ]
  },
  {
   "cell_type": "code",
   "execution_count": 0,
   "metadata": {
    "colab": {},
    "colab_type": "code",
    "id": "TRWdUCha6Q_g",
    "outputId": "60d09a87-84b0-4d64-a63f-802e8b3ee9c0"
   },
   "outputs": [
    {
     "name": "stdout",
     "output_type": "stream",
     "text": [
      "0.5007260406582769\n"
     ]
    },
    {
     "data": {
      "text/plain": [
       "0.5007260406582769"
      ]
     },
     "execution_count": 82,
     "metadata": {
      "tags": []
     },
     "output_type": "execute_result"
    }
   ],
   "source": [
    "fpr, tpr, _ = roc_curve(y_test, y_pred)\n",
    "roc_auc = auc(fpr, tpr)\n",
    "print(roc_auc)\n",
    "\n",
    "roc_auc = roc_auc_score(y_test, y_pred, average=None)\n",
    "roc_auc"
   ]
  },
  {
   "cell_type": "code",
   "execution_count": 113,
   "metadata": {
    "colab": {
     "base_uri": "https://localhost:8080/",
     "height": 35
    },
    "colab_type": "code",
    "executionInfo": {
     "elapsed": 536,
     "status": "ok",
     "timestamp": 1578507973187,
     "user": {
      "displayName": "Piyush Tada",
      "photoUrl": "https://lh3.googleusercontent.com/a-/AAuE7mDSlGQfVK839VHJWqRccouhYJGY13qFt84KUCH9Qno=s64",
      "userId": "12543700153384381749"
     },
     "user_tz": -60
    },
    "id": "ztCsAq5RZ9Jv",
    "outputId": "39d991d8-f554-47b7-964f-dee826fcccd0"
   },
   "outputs": [
    {
     "data": {
      "text/plain": [
       "0.500675308405506"
      ]
     },
     "execution_count": 113,
     "metadata": {
      "tags": []
     },
     "output_type": "execute_result"
    }
   ],
   "source": [
    "roc_auc"
   ]
  },
  {
   "cell_type": "code",
   "execution_count": 0,
   "metadata": {
    "colab": {},
    "colab_type": "code",
    "id": "VltW8CEh6Q_i",
    "outputId": "13ed83eb-211e-40e9-9099-f73fff2bb857"
   },
   "outputs": [
    {
     "data": {
      "image/png": "[encoded data removed]",
      "text/plain": [
       "<Figure size 576x360 with 1 Axes>"
      ]
     },
     "metadata": {
      "needs_background": "light",
      "tags": []
     },
     "output_type": "display_data"
    }
   ],
   "source": [
    "plt.figure(figsize=(8, 5))\n",
    "plt.plot(fpr, tpr, label='ROC curve (area = %0.2f)' % (roc_auc))\n",
    "    \n",
    "plt.plot([0, 1], [0, 1], 'k--')\n",
    "plt.xlim([0.0, 1.0])\n",
    "plt.ylim([0.0, 1.05])\n",
    "plt.xlabel('False Positive Rate', fontsize=20)\n",
    "plt.ylabel('True Positive Rate', fontsize=20) \n",
    "plt.tick_params(axis='both', which='major', labelsize=22)\n",
    "plt.legend(loc=\"lower right\", fontsize=14, frameon=False)\n",
    "plt.show()"
   ]
  },
  {
   "cell_type": "code",
   "execution_count": 0,
   "metadata": {
    "colab": {},
    "colab_type": "code",
    "id": "octqS6Gl6Q_l",
    "outputId": "bbca1f5b-9f86-4a70-c02b-063a98c771a3"
   },
   "outputs": [
    {
     "name": "stdout",
     "output_type": "stream",
     "text": [
      "Accuracy: 0.8786 (+/- 0.00)\n"
     ]
    },
    {
     "name": "stderr",
     "output_type": "stream",
     "text": [
      "/Users/piyush2017/opt/anaconda3/lib/python3.7/site-packages/sklearn/metrics/classification.py:1437: UndefinedMetricWarning: F-score is ill-defined and being set to 0.0 in labels with no predicted samples.\n",
      "  'precision', 'predicted', average, warn_for)\n",
      "/Users/piyush2017/opt/anaconda3/lib/python3.7/site-packages/sklearn/metrics/classification.py:1437: UndefinedMetricWarning: F-score is ill-defined and being set to 0.0 in labels with no predicted samples.\n",
      "  'precision', 'predicted', average, warn_for)\n",
      "/Users/piyush2017/opt/anaconda3/lib/python3.7/site-packages/sklearn/metrics/classification.py:1437: UndefinedMetricWarning: F-score is ill-defined and being set to 0.0 in labels with no predicted samples.\n",
      "  'precision', 'predicted', average, warn_for)\n"
     ]
    },
    {
     "name": "stdout",
     "output_type": "stream",
     "text": [
      "F1-score: 0.4684 (+/- 0.00)\n"
     ]
    },
    {
     "name": "stderr",
     "output_type": "stream",
     "text": [
      "/Users/piyush2017/opt/anaconda3/lib/python3.7/site-packages/sklearn/metrics/classification.py:1437: UndefinedMetricWarning: F-score is ill-defined and being set to 0.0 in labels with no predicted samples.\n",
      "  'precision', 'predicted', average, warn_for)\n"
     ]
    }
   ],
   "source": [
    "scores = cross_val_score(clf, X, y, cv=10)\n",
    "print('Accuracy: %0.4f (+/- %0.2f)' % (scores.mean(), scores.std() * 2))\n",
    "\n",
    "scores = cross_val_score(clf, X, y, cv=10, scoring='f1_macro')\n",
    "print('F1-score: %0.4f (+/- %0.2f)' % (scores.mean(), scores.std() * 2))"
   ]
  }
 ],
 "metadata": {
  "colab": {
   "name": "Final_working_classification-Copy1.ipynb",
   "provenance": []
  },
  "hide_input": false,
  "kernelspec": {
   "display_name": "Python 3",
   "language": "python",
   "name": "python3"
  },
  "language_info": {
   "codemirror_mode": {
    "name": "ipython",
    "version": 3
   },
   "file_extension": ".py",
   "mimetype": "text/x-python",
   "name": "python",
   "nbconvert_exporter": "python",
   "pygments_lexer": "ipython3",
   "version": "3.8.5"
  }
 },
 "nbformat": 4,
 "nbformat_minor": 1
}
